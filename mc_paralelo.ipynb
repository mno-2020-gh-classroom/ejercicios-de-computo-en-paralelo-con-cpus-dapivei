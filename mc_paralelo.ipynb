{
 "cells": [
  {
   "cell_type": "markdown",
   "metadata": {},
   "source": [
    "# MONTECARLO PARALELIZADO"
   ]
  },
  {
   "cell_type": "markdown",
   "metadata": {},
   "source": [
    "## Instalaciones necesarias"
   ]
  },
  {
   "cell_type": "markdown",
   "metadata": {},
   "source": [
    "- Para que el código a continuación funcione, es necesario tener instalado `dask`."
   ]
  },
  {
   "cell_type": "code",
   "execution_count": 1,
   "metadata": {},
   "outputs": [],
   "source": [
    "#%pip install dask   "
   ]
  },
  {
   "cell_type": "markdown",
   "metadata": {},
   "source": [
    "- Para habilitar el dashboard, debemos installar `bokeh` :"
   ]
  },
  {
   "cell_type": "code",
   "execution_count": 2,
   "metadata": {},
   "outputs": [],
   "source": [
    "#%pip install bokeh\n"
   ]
  },
  {
   "cell_type": "code",
   "execution_count": 3,
   "metadata": {},
   "outputs": [],
   "source": [
    "#%%bash \n",
    "\n",
    "#sudo apt-get install -y graphviz"
   ]
  },
  {
   "cell_type": "code",
   "execution_count": 4,
   "metadata": {},
   "outputs": [],
   "source": [
    "#%pip install -q graphviz"
   ]
  },
  {
   "cell_type": "code",
   "execution_count": 5,
   "metadata": {},
   "outputs": [],
   "source": [
    "#import IPython\n",
    "#app=IPython.Application.instance()\n",
    "#app.kernel.do_shutdown(True) #restarting kernell"
   ]
  },
  {
   "cell_type": "markdown",
   "metadata": {},
   "source": [
    "## Montecarlo 1D\n"
   ]
  },
  {
   "cell_type": "markdown",
   "metadata": {},
   "source": [
    "Empezamos con el algoritmo de monte carlo en 1 dimensión\n",
    "\n",
    "Integramos la función:\n",
    "$$f(x)=\\int_0^1 \\frac{4}{1+x^2}=\\pi$$ \n",
    "\n"
   ]
  },
  {
   "cell_type": "markdown",
   "metadata": {},
   "source": [
    "\n",
    "### Método secuencial:"
   ]
  },
  {
   "cell_type": "code",
   "execution_count": 6,
   "metadata": {},
   "outputs": [],
   "source": [
    "import numpy as np\n",
    "import math"
   ]
  },
  {
   "cell_type": "code",
   "execution_count": 7,
   "metadata": {},
   "outputs": [],
   "source": [
    "#definimos la funcion del error relativo\n",
    "err_rel=lambda ap,ob: math.fabs(ap-ob)/math.fabs(ob)"
   ]
  },
  {
   "cell_type": "code",
   "execution_count": 8,
   "metadata": {},
   "outputs": [],
   "source": [
    "#numero de puntos a utilizar\n",
    "density_p=10**8\n",
    "\n",
    "#funcion a integrar\n",
    "f=lambda x: 4/(1+x**2)\n",
    "\n",
    "#resultado conocido de la integral (valor objetivo)\n",
    "obj=math.pi\n",
    "\n",
    "#intervalo\n",
    "a=0\n",
    "b=1\n",
    "\n",
    "#dimensiones\n",
    "dims=1"
   ]
  },
  {
   "cell_type": "code",
   "execution_count": 9,
   "metadata": {},
   "outputs": [
    {
     "name": "stdout",
     "output_type": "stream",
     "text": [
      "---------------------\n",
      "El valor calculado de la integral es:  3.1415812651041706\n",
      "El error relativo: 3.6251e-06\n",
      "---------------------\n",
      "CPU times: user 1.71 s, sys: 666 ms, total: 2.38 s\n",
      "Wall time: 2.17 s\n"
     ]
    }
   ],
   "source": [
    "%%time\n",
    "#approximación mediante método montecarlo\n",
    "x_p=np.random.uniform(0,1,density_p) #obtiene tantos números aleatorios entre 0 y 1 como density_p.\n",
    "vol=b-a # esta es la longitud del intervalo de integración.\n",
    "approx=vol*np.mean(f(x_p))\n",
    "\n",
    "print(\"---------------------\")\n",
    "print(\"El valor calculado de la integral es: \",approx)\n",
    "print(\"El error relativo: {:0.4e}\".format(err_rel(approx,obj)))\n",
    "print(\"---------------------\")"
   ]
  },
  {
   "cell_type": "markdown",
   "metadata": {},
   "source": [
    "### Paralelización de MC en Dask"
   ]
  },
  {
   "cell_type": "markdown",
   "metadata": {},
   "source": [
    "Para paralelizar estos resultados lo que pienso que tenemos que hacer es dividir las tareas en n subintervalos. La porpuesta es la siguiente:  \n",
    "1. Dividir el dominio de la función en $p$ partes iguales. $p$ será el número de cpus disponibles en la máquina en que se corre la tarea.\n",
    "2. Dividir el total de puntos a utilizar equitativamente entre $p$.\n",
    "3. Resolver el método para cada intervalo.\n",
    "4. Sumar los resultados de cada intervalo."
   ]
  },
  {
   "cell_type": "markdown",
   "metadata": {},
   "source": [
    "Nota: Para el caso de más dimensiones solamente se paraleliza una dimensión pues al hacerlo con todas se estaría dividiendo el espacio en $p_{dim}$ subespacios."
   ]
  },
  {
   "cell_type": "code",
   "execution_count": 10,
   "metadata": {},
   "outputs": [],
   "source": [
    "import multiprocessing\n",
    "import time\n",
    "from dask.distributed import Client\n",
    "client = Client()"
   ]
  },
  {
   "cell_type": "code",
   "execution_count": 11,
   "metadata": {},
   "outputs": [
    {
     "data": {
      "text/html": [
       "<table style=\"border: 2px solid white;\">\n",
       "<tr>\n",
       "<td style=\"vertical-align: top; border: 0px solid white\">\n",
       "<h3 style=\"text-align: left;\">Client</h3>\n",
       "<ul style=\"text-align: left; list-style: none; margin: 0; padding: 0;\">\n",
       "  <li><b>Scheduler: </b>tcp://127.0.0.1:65426</li>\n",
       "  <li><b>Dashboard: </b><a href='http://127.0.0.1:8787/status' target='_blank'>http://127.0.0.1:8787/status</a>\n",
       "</ul>\n",
       "</td>\n",
       "<td style=\"vertical-align: top; border: 0px solid white\">\n",
       "<h3 style=\"text-align: left;\">Cluster</h3>\n",
       "<ul style=\"text-align: left; list-style:none; margin: 0; padding: 0;\">\n",
       "  <li><b>Workers: </b>4</li>\n",
       "  <li><b>Cores: </b>16</li>\n",
       "  <li><b>Memory: </b>17.18 GB</li>\n",
       "</ul>\n",
       "</td>\n",
       "</tr>\n",
       "</table>"
      ],
      "text/plain": [
       "<Client: 'tcp://127.0.0.1:65426' processes=4 threads=16, memory=17.18 GB>"
      ]
     },
     "execution_count": 11,
     "metadata": {},
     "output_type": "execute_result"
    }
   ],
   "source": [
    "client"
   ]
  },
  {
   "cell_type": "code",
   "execution_count": 12,
   "metadata": {},
   "outputs": [],
   "source": [
    "#paso 1. Dividir el dominio en partes iguales\n",
    "p=multiprocessing.cpu_count() #cpus disponibles\n",
    "n_subint=int(density_p/p) #numero de puntos o nodos en cada core o cpu"
   ]
  },
  {
   "cell_type": "code",
   "execution_count": 13,
   "metadata": {},
   "outputs": [],
   "source": [
    "def construye_subintervalos1D(ids,a,b,p,dims):\n",
    "    \"\"\"\n",
    "\n",
    "    Función que construye \"p\" subintervalos, delimitados entre a y b. El número de subintervalos \\\\\n",
    "    dependerá del número de cores empleados. Este ejercicio fue ejecutado en una computadora \\\\\n",
    "    con 16 cores, por lo tanto, se crean 16 subintervalos.\n",
    "    \n",
    "    Argumentos:\n",
    "    ----------\n",
    "    * ids: Identificador del core dónde se está corriendo el task. Este ejercicio fue ejecutado \\\\\n",
    "           en una computadora con 16 cores, por ello los posibles valores de \"ids\" son números enteros \\\\\n",
    "           entre 0 y 15.\n",
    "    * a, b (float): Intervalo de integración [a, b]\n",
    "    * p (int) : Número de cores o cpus disponibles\n",
    "    * dims: Dimensión de la integral.\n",
    "    \n",
    "    Salidas:\n",
    "    -------\n",
    "    * (begin, end): Subintervalos de integración.\n",
    "    \n",
    "    Ejemplo:\n",
    "    -------\n",
    "    construye_subintervalos(ids=0,a,b,p,dims)\n",
    "    return:\n",
    "    (0.0, 0.0625)\n",
    "\n",
    "    \"\"\"\n",
    "    tamano_int=(b-a)/p #tamaño de cada sub intervalo.\n",
    "    begin= a + ids*tamano_int #construyen los subintervalo\n",
    "    end=begin+tamano_int\n",
    "    return (begin,end)\n",
    "\n",
    "    \n",
    "def evalua_subintervalos1D(intervalo,f,n_subint,dims):\n",
    "    \"\"\"\n",
    "    Función que evalúa la integral en cada uno los p subintervalos \\\\\n",
    "    previamente construidos con la función \"construye_subintervalos\"\n",
    "    \n",
    "    Argumentos:\n",
    "    ----------\n",
    "    * intervalo: Intervalo de la integral sobre la cual se va aproximar \\\\\n",
    "                 la integral\n",
    "    * f: Función que se está aproximando\n",
    "    * n_subint: Número de puntos o nodos en cada core o cpu\n",
    "    * dims: Dimensiones de la integral\n",
    "    \n",
    "    Salidas:\n",
    "    --------\n",
    "    + vol*np.mean(f(x_p)): Approximación a la integral\n",
    "    \n",
    "    \"\"\"   \n",
    "    x_p=np.random.uniform(intervalo[0],intervalo[1],n_subint) #draw samples from a uniform distribution\n",
    "    vol=intervalo[1]-intervalo[0]\n",
    "    return vol*np.mean(f(x_p)) #calcula la integral para una cada regió: subintervalo."
   ]
  },
  {
   "cell_type": "code",
   "execution_count": 14,
   "metadata": {},
   "outputs": [
    {
     "name": "stdout",
     "output_type": "stream",
     "text": [
      "---------------------\n",
      "El valor calculado de la integral es:  3.1415945443255806\n",
      "El error relativo: 6.0184e-07\n",
      "---------------------\n",
      "CPU times: user 99.2 ms, sys: 11 ms, total: 110 ms\n",
      "Wall time: 564 ms\n"
     ]
    }
   ],
   "source": [
    "%%time\n",
    "\n",
    "#submitting p function calls\n",
    "futures_intervalos = client.map(construye_subintervalos1D,range(p),\n",
    "                                                **{'a':a,\n",
    "                                                   'b':b,\n",
    "                                                   'p':p,\n",
    "                                                   'dims':dims})\n",
    "\n",
    "futures_evaluando=client.map(evalua_subintervalos1D, futures_intervalos,\n",
    "                                             **{'f':f,\n",
    "                                                'n_subint':n_subint,\n",
    "                                                'dims':dims})\n",
    "\n",
    "results=client.gather(futures_evaluando) # los resultados viven en varios workers \n",
    "aprox=sum(results) #sumamos los resultados de todos los workers\n",
    "\n",
    "print(\"---------------------\")\n",
    "print(\"El valor calculado de la integral es: \",aprox)\n",
    "print(\"El error relativo: {:0.4e}\".format(err_rel(aprox,obj)))\n",
    "print(\"---------------------\")"
   ]
  },
  {
   "cell_type": "code",
   "execution_count": 15,
   "metadata": {},
   "outputs": [],
   "source": [
    "client.close()"
   ]
  },
  {
   "cell_type": "markdown",
   "metadata": {},
   "source": [
    "Para el método en secuencial obtenemos un error relativo de $3.6251x10^{-6}$ y un tiempo de ejecución de $2.38$ seg y para el método en paralelo obtenemos un error relativo de $6.0184x10^{-7}$ en $110$ ms."
   ]
  }
 ],
 "metadata": {
  "kernelspec": {
   "display_name": "Python 3",
   "language": "python",
   "name": "python3"
  },
  "language_info": {
   "codemirror_mode": {
    "name": "ipython",
    "version": 3
   },
   "file_extension": ".py",
   "mimetype": "text/x-python",
   "name": "python",
   "nbconvert_exporter": "python",
   "pygments_lexer": "ipython3",
   "version": "3.7.7"
  }
 },
 "nbformat": 4,
 "nbformat_minor": 4
}
