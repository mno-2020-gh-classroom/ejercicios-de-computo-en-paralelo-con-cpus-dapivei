{
 "cells": [
  {
   "cell_type": "markdown",
   "metadata": {},
   "source": [
    "# MONTECARLO PARALELIZADO"
   ]
  },
  {
   "cell_type": "markdown",
   "metadata": {},
   "source": [
    "## Instalaciones necesarias"
   ]
  },
  {
   "cell_type": "markdown",
   "metadata": {},
   "source": [
    "- Para que el código a continuación funcione, es necesario tener instalado `dask`."
   ]
  },
  {
   "cell_type": "code",
   "execution_count": null,
   "metadata": {},
   "outputs": [],
   "source": [
    "%pip install --user dask   "
   ]
  },
  {
   "cell_type": "code",
   "execution_count": null,
   "metadata": {},
   "outputs": [],
   "source": [
    "%pip install --user dask distributed"
   ]
  },
  {
   "cell_type": "markdown",
   "metadata": {},
   "source": [
    "- Para habilitar el dashboard, debemos installar `bokeh` :"
   ]
  },
  {
   "cell_type": "code",
   "execution_count": null,
   "metadata": {},
   "outputs": [],
   "source": [
    "%pip install --user bokeh"
   ]
  },
  {
   "cell_type": "code",
   "execution_count": null,
   "metadata": {},
   "outputs": [],
   "source": [
    "%%bash \n",
    "sudo apt-get install -y graphviz"
   ]
  },
  {
   "cell_type": "code",
   "execution_count": null,
   "metadata": {},
   "outputs": [],
   "source": [
    "%pip install --user -q graphviz"
   ]
  },
  {
   "cell_type": "code",
   "execution_count": null,
   "metadata": {},
   "outputs": [],
   "source": [
    "%pip install --user numpy "
   ]
  },
  {
   "cell_type": "code",
   "execution_count": 2,
   "metadata": {},
   "outputs": [
    {
     "data": {
      "text/plain": [
       "{'status': 'ok', 'restart': True}"
      ]
     },
     "execution_count": 2,
     "metadata": {},
     "output_type": "execute_result"
    }
   ],
   "source": [
    "import IPython\n",
    "app=IPython.Application.instance()\n",
    "app.kernel.do_shutdown(True) #restarting kernell"
   ]
  },
  {
   "cell_type": "code",
   "execution_count": 1,
   "metadata": {},
   "outputs": [],
   "source": [
    "from IPython.display import Image\n",
    "import time"
   ]
  },
  {
   "cell_type": "markdown",
   "metadata": {},
   "source": [
    "## Montecarlo 1D\n"
   ]
  },
  {
   "cell_type": "markdown",
   "metadata": {},
   "source": [
    "Empezamos con el algoritmo de monte carlo en 1 dimensión\n",
    "\n",
    "Integramos la función:\n",
    "$$f(x)=\\int_0^1 \\frac{4}{1+x^2}=\\pi$$ \n",
    "\n"
   ]
  },
  {
   "cell_type": "markdown",
   "metadata": {},
   "source": [
    "\n",
    "### Método secuencial:"
   ]
  },
  {
   "cell_type": "code",
   "execution_count": 2,
   "metadata": {},
   "outputs": [],
   "source": [
    "import numpy as np\n",
    "import math"
   ]
  },
  {
   "cell_type": "code",
   "execution_count": 3,
   "metadata": {},
   "outputs": [],
   "source": [
    "# definimos la funcion del error relativo\n",
    "err_rel=lambda ap,ob: math.fabs(ap-ob)/math.fabs(ob)"
   ]
  },
  {
   "cell_type": "code",
   "execution_count": 4,
   "metadata": {},
   "outputs": [],
   "source": [
    "# número de puntos a utilizar\n",
    "density_p=10**7\n",
    "\n",
    "# función a integrar\n",
    "f=lambda x: 4/(1+x**2)\n",
    "\n",
    "# resultado conocido de la integral (valor objetivo)\n",
    "obj=math.pi\n",
    "\n",
    "# intervalo\n",
    "a=0\n",
    "b=1\n",
    "# dimensiones\n",
    "dims=1"
   ]
  },
  {
   "cell_type": "code",
   "execution_count": 5,
   "metadata": {},
   "outputs": [
    {
     "name": "stdout",
     "output_type": "stream",
     "text": [
      "---------------------\n",
      "El valor calculado de la integral es:  3.141410099666798\n",
      "El error relativo: 5.8109e-05\n",
      "---------------------\n",
      "CPU times: user 167 ms, sys: 70.2 ms, total: 237 ms\n",
      "Wall time: 242 ms\n"
     ]
    }
   ],
   "source": [
    "%%time\n",
    "#approximación mediante método montecarlo\n",
    "x_p = np.random.uniform(0,1,density_p) #obtiene tantos números aleatorios entre 0 y 1 como density_p.\n",
    "vol = b-a # esta es la longitud del intervalo de integración.\n",
    "approx = vol*np.mean(f(x_p))\n",
    "\n",
    "print(\"---------------------\")\n",
    "print(\"El valor calculado de la integral es: \",approx)\n",
    "print(\"El error relativo: {:0.4e}\".format(err_rel(approx,obj)))\n",
    "print(\"---------------------\")"
   ]
  },
  {
   "cell_type": "markdown",
   "metadata": {},
   "source": [
    "A continuación, simplemente se vuelve función el proceso anterior para poder evaluar de manera eficiente varias veces el computo de dicha función. "
   ]
  },
  {
   "cell_type": "code",
   "execution_count": 6,
   "metadata": {},
   "outputs": [],
   "source": [
    "def montecarlo_1D(density_p, f, a=0, b=1):\n",
    "    '''\n",
    "    Esta función aproxima la integral en el intervalo [a,b] por el método de montecarlo en 1 dimensión para la función\n",
    "    f(x).\n",
    "    _______\n",
    "    Argumentos:\n",
    "        - density_p (float): Densisdad para determinar cuantos puntos aleatorios se generan en cada dimensión a partir de una\n",
    "        distribución uniforme.\n",
    "        - f (lambda): función sobre la cual se va a integrar\n",
    "        - a: punto inferior del intervalo sobre el que se va a integrar\n",
    "        - b: punto inferisuperior del intervalo sobre el que se va a integrar\n",
    "    Salidas:\n",
    "        - aprox: aproximación de la integral por Montecarlo\n",
    "    '''\n",
    "    x_p = np.random.uniform(0,1,density_p) \n",
    "    vol = b-a\n",
    "    aprox = vol*np.mean(f(x_p))\n",
    "    \n",
    "    return aprox"
   ]
  },
  {
   "cell_type": "code",
   "execution_count": 7,
   "metadata": {},
   "outputs": [
    {
     "name": "stdout",
     "output_type": "stream",
     "text": [
      "Evalución de integral de montecarlo de forma secuencial:\n",
      "---------------------\n",
      "El valor calculado de la integral es:  3.1417272402444905\n",
      "El error relativo: 4.2840e-05\n",
      "El tiempo de ejecución: 0.30786824226379395 segundos\n",
      "---------------------\n"
     ]
    }
   ],
   "source": [
    "start_time = time.time()\n",
    "aprox = montecarlo_1D(density_p=10**7, f=lambda x: 4/(1+x**2), a=0, b=1)\n",
    "end_time = time.time()\n",
    "secs = end_time-start_time\n",
    "\n",
    "# lambda statement para calcualr el error relativo\n",
    "err_rel=lambda ap,ob: math.fabs(ap-ob)/math.fabs(ob)\n",
    "# valor de la integral\n",
    "obj=math.pi\n",
    "\n",
    "print(\"Evalución de integral de montecarlo de forma secuencial:\")\n",
    "print(\"---------------------\")\n",
    "print(\"El valor calculado de la integral es: \",aprox)\n",
    "print(\"El error relativo: {:0.4e}\".format(err_rel(aprox,obj)))\n",
    "print(f\"El tiempo de ejecución: {secs} segundos\")\n",
    "print(\"---------------------\")"
   ]
  },
  {
   "cell_type": "markdown",
   "metadata": {},
   "source": [
    "Utilizando `time`, el tiempo de ejecución gue de 3.14 segundos. \n",
    "\n",
    "Ahora se evaluará de nuevo el algoritmo, utilizando el `magic command`, `timeit`, el cual permite calcular el tiempo de ejecución de un programa en python tras ser ejecutado en un ciclo por `-n` veces, repitiendo este procedimiento `-r` veces. El flag `-o` se utiliza para tener una salida de tipo timeit que pueda ser almacenada en una variable, en este caso, \"montecarlo_secuencial_timeit\"."
   ]
  },
  {
   "cell_type": "code",
   "execution_count": 8,
   "metadata": {},
   "outputs": [
    {
     "name": "stdout",
     "output_type": "stream",
     "text": [
      "151 ms ± 2.31 ms per loop (mean ± std. dev. of 10 runs, 5 loops each)\n"
     ]
    }
   ],
   "source": [
    "montecarlo_secuencial_timeit = %timeit -n 5 -r 10 -o montecarlo_1D(density_p=10**7, f=lambda x: 4/(1+x**2), a=0, b=1)"
   ]
  },
  {
   "cell_type": "markdown",
   "metadata": {},
   "source": [
    "Los anteriores resultados en términos de tiempo son consistentes a los ejercicios realizados incialmente para le evaluación de desempeño del programa generado secuencialmnte."
   ]
  },
  {
   "cell_type": "markdown",
   "metadata": {},
   "source": [
    "### Paralelización de MC en Dask"
   ]
  },
  {
   "cell_type": "markdown",
   "metadata": {},
   "source": [
    "Para paralelizar estos resultados lo que pienso que tenemos que hacer es dividir las tareas en n subintervalos. La porpuesta es la siguiente:  \n",
    "1. Dividir el dominio de la función en $p$ partes iguales. $p$ será el número de cpus disponibles en la máquina en que se corre la tarea.\n",
    "2. Dividir el total de puntos a utilizar equitativamente entre $p$.\n",
    "3. Resolver el método para cada intervalo.\n",
    "4. Sumar los resultados de cada intervalo."
   ]
  },
  {
   "cell_type": "markdown",
   "metadata": {},
   "source": [
    "**Nota:** Para el caso de más dimensiones solamente se paraleliza una dimensión pues al hacerlo con todas se estaría dividiendo el espacio en $p_{dim}$ subespacios."
   ]
  },
  {
   "cell_type": "code",
   "execution_count": 11,
   "metadata": {},
   "outputs": [],
   "source": [
    "import multiprocessing\n",
    "import time\n",
    "from dask.distributed import Client\n",
    "client = Client()"
   ]
  },
  {
   "cell_type": "code",
   "execution_count": 12,
   "metadata": {},
   "outputs": [
    {
     "data": {
      "text/html": [
       "<table style=\"border: 2px solid white;\">\n",
       "<tr>\n",
       "<td style=\"vertical-align: top; border: 0px solid white\">\n",
       "<h3 style=\"text-align: left;\">Client</h3>\n",
       "<ul style=\"text-align: left; list-style: none; margin: 0; padding: 0;\">\n",
       "  <li><b>Scheduler: </b>tcp://127.0.0.1:62080</li>\n",
       "  <li><b>Dashboard: </b><a href='http://127.0.0.1:62081/status' target='_blank'>http://127.0.0.1:62081/status</a>\n",
       "</ul>\n",
       "</td>\n",
       "<td style=\"vertical-align: top; border: 0px solid white\">\n",
       "<h3 style=\"text-align: left;\">Cluster</h3>\n",
       "<ul style=\"text-align: left; list-style:none; margin: 0; padding: 0;\">\n",
       "  <li><b>Workers: </b>4</li>\n",
       "  <li><b>Cores: </b>8</li>\n",
       "  <li><b>Memory: </b>8.59 GB</li>\n",
       "</ul>\n",
       "</td>\n",
       "</tr>\n",
       "</table>"
      ],
      "text/plain": [
       "<Client: 'tcp://127.0.0.1:62080' processes=4 threads=8, memory=8.59 GB>"
      ]
     },
     "execution_count": 12,
     "metadata": {},
     "output_type": "execute_result"
    }
   ],
   "source": [
    "client"
   ]
  },
  {
   "cell_type": "markdown",
   "metadata": {},
   "source": [
    "Si se quiere ser más explícito con el uso de los recursos computacionales:"
   ]
  },
  {
   "cell_type": "code",
   "execution_count": 13,
   "metadata": {},
   "outputs": [
    {
     "data": {
      "text/html": [
       "<table style=\"border: 2px solid white;\">\n",
       "<tr>\n",
       "<td style=\"vertical-align: top; border: 0px solid white\">\n",
       "<h3 style=\"text-align: left;\">Client</h3>\n",
       "<ul style=\"text-align: left; list-style: none; margin: 0; padding: 0;\">\n",
       "  <li><b>Scheduler: </b>inproc://192.168.0.27/17241/8</li>\n",
       "  <li><b>Dashboard: </b><a href='http://192.168.0.27:62102/status' target='_blank'>http://192.168.0.27:62102/status</a>\n",
       "</ul>\n",
       "</td>\n",
       "<td style=\"vertical-align: top; border: 0px solid white\">\n",
       "<h3 style=\"text-align: left;\">Cluster</h3>\n",
       "<ul style=\"text-align: left; list-style:none; margin: 0; padding: 0;\">\n",
       "  <li><b>Workers: </b>1</li>\n",
       "  <li><b>Cores: </b>4</li>\n",
       "  <li><b>Memory: </b>6.00 GB</li>\n",
       "</ul>\n",
       "</td>\n",
       "</tr>\n",
       "</table>"
      ],
      "text/plain": [
       "<Client: 'inproc://192.168.0.27/17241/8' processes=1 threads=4, memory=6.00 GB>"
      ]
     },
     "execution_count": 13,
     "metadata": {},
     "output_type": "execute_result"
    }
   ],
   "source": [
    "from dask.distributed import Client, progress\n",
    "client = Client(processes=False, threads_per_worker=4,\n",
    "                n_workers=1, memory_limit='6GB')\n",
    "client"
   ]
  },
  {
   "cell_type": "code",
   "execution_count": 14,
   "metadata": {},
   "outputs": [],
   "source": [
    "# paso 1. Dividir el dominio en partes iguales\n",
    "p = multiprocessing.cpu_count() # cpus disponibles\n",
    "n_subint = int(density_p/p) # número de puntos o nodos en cada core o cpu"
   ]
  },
  {
   "cell_type": "code",
   "execution_count": 15,
   "metadata": {},
   "outputs": [],
   "source": [
    "def construye_subintervalos1D(ids,a,b,p,dims):\n",
    "    \"\"\"\n",
    "    Función que construye \"p\" subintervalos, delimitados entre a y b. \n",
    "    El número de subintervalos dependerá del número de cores empleados. \n",
    "    Este ejercicio fue ejecutado en una computadoracon 16 cores, por lo \n",
    "    tanto, se crean 16 subintervalos.\n",
    "    \n",
    "    Argumentos:\n",
    "    ----------\n",
    "    * ids: Identificador del core dónde se está corriendo el task. \n",
    "    Este ejercicio fue ejecutado en una computadora con 16 cores, por \n",
    "    ello los posibles valores de \"ids\" son números enteros entre 0 y 15.\n",
    "    * a, b (float): Intervalo de integración [a, b]\n",
    "    * p (int) : Número de cores o cpus disponibles\n",
    "    * dims: Dimensión de la integral.\n",
    "    \n",
    "    Salidas:\n",
    "    -------\n",
    "    * (begin, end): Subintervalos de integración.\n",
    "    \n",
    "    Ejemplo:\n",
    "    -------\n",
    "    construye_subintervalos(ids=0,a,b,p,dims)\n",
    "    return:\n",
    "    (0.0, 0.0625)\n",
    "\n",
    "    \"\"\"\n",
    "    tamano_int = (b-a)/p #tamaño de cada sub intervalo.\n",
    "    begin = a + ids*tamano_int #construyen los subintervalo\n",
    "    end = begin+tamano_int\n",
    "    return (begin,end)\n",
    "\n",
    "    \n",
    "def evalua_subintervalos1D(intervalo,f,n_subint,dims):\n",
    "    \"\"\"\n",
    "    Función que evalúa la integral en cada uno los p subintervalos \\\\\n",
    "    previamente construidos con la función \"construye_subintervalos\"\n",
    "    \n",
    "    Argumentos:\n",
    "    ----------\n",
    "    * intervalo: Intervalo de la integral sobre la cual se va aproximar \\\\\n",
    "                 la integral\n",
    "    * f: Función que se está aproximando\n",
    "    * n_subint: Número de puntos o nodos en cada core o cpu\n",
    "    * dims: Dimensiones de la integral\n",
    "    \n",
    "    Salidas:\n",
    "    --------\n",
    "    + vol*np.mean(f(x_p)): Approximación a la integral\n",
    "    \n",
    "    \"\"\"   \n",
    "    x_p=np.random.uniform(intervalo[0],intervalo[1],n_subint) #draw samples from a uniform distribution\n",
    "    vol=intervalo[1]-intervalo[0]\n",
    "    return vol*np.mean(f(x_p)) #calcula la integral para una cada regió: subintervalo."
   ]
  },
  {
   "cell_type": "code",
   "execution_count": 16,
   "metadata": {},
   "outputs": [
    {
     "name": "stdout",
     "output_type": "stream",
     "text": [
      "---------------------\n",
      "El valor calculado de la integral es:  3.1415475198108935\n",
      "El error relativo: 1.4367e-05\n",
      "---------------------\n",
      "CPU times: user 238 ms, sys: 79.1 ms, total: 317 ms\n",
      "Wall time: 305 ms\n"
     ]
    }
   ],
   "source": [
    "%%time\n",
    "\n",
    "# submitting p function calls\n",
    "futures_intervalos = client.map(construye_subintervalos1D,range(p),\n",
    "                                                **{'a':a,\n",
    "                                                   'b':b,\n",
    "                                                   'p':p,\n",
    "                                                   'dims':dims})\n",
    "\n",
    "futures_evaluando=client.map(evalua_subintervalos1D, futures_intervalos,\n",
    "                                             **{'f':f,\n",
    "                                                'n_subint':n_subint,\n",
    "                                                'dims':dims})\n",
    "\n",
    "results=client.gather(futures_evaluando) # los resultados viven en varios workers \n",
    "aprox=sum(results) #sumamos los resultados de todos los workers\n",
    "\n",
    "print(\"---------------------\")\n",
    "print(\"El valor calculado de la integral es: \",aprox)\n",
    "print(\"El error relativo: {:0.4e}\".format(err_rel(aprox,obj)))\n",
    "print(\"---------------------\")"
   ]
  },
  {
   "cell_type": "markdown",
   "metadata": {},
   "source": [
    "- Utilizando una computadora de 16 núcleos (y por lo tanto 16 intervalos)con 8 GB de ram:\n",
    "Para el método en secuencial obtenemos un error relativo de $3.6251x10^{-6}$ y un tiempo de ejecución de $2.38$ seg y para el método en paralelo obtenemos un error relativo de $6.0184x10^{-7}$ en $110$ ms.\n",
    "\n",
    "- Utilizando una computadora de 8 núcleos (y por lo tanto 8 intervalos)con 4 GB de ram:\n",
    "se obtiene un error relativo de $1.8433x10^{-7}$ y se tarda un tiempo de ejecución de 428 ms."
   ]
  },
  {
   "cell_type": "markdown",
   "metadata": {},
   "source": [
    "Con el fin de visualizar el tiempo de ejecución de las tareas paralelizadas, se presenta a continuación la gráfica generada en `dask` por medio de `bokeh`:\n",
    "\n",
    "![dask_tasKstream](imgs/mc_1dim_dask_taskStream.png)\n",
    "\n",
    "A pesar de que los colores sean casi indistinguibles entre las dos tareas, es posible diferenciarlas por medio de la magnitud de sus barras. El bloque \"construye_subintervalos\" es la tarea más rápida,dado que solo implica la construcción de subintervalos en función del número de cores empledos en la tarea. La tarea \"evalua_subintervalos\" es la que mayor tiempo de computo lleva, en la medida que implica el cálculo de un área para cada subintervalor, lo que implica mayor complejidad. "
   ]
  },
  {
   "cell_type": "markdown",
   "metadata": {},
   "source": [
    "**Comparación de algunos resultados de computaciones**"
   ]
  },
  {
   "cell_type": "code",
   "execution_count": 17,
   "metadata": {},
   "outputs": [
    {
     "name": "stdout",
     "output_type": "stream",
     "text": [
      "CPU times: user 1.92 ms, sys: 3.12 ms, total: 5.04 ms\n",
      "Wall time: 3.89 ms\n"
     ]
    },
    {
     "data": {
      "text/plain": [
       "(0.49741702207072097,\n",
       " 0.48250344253961425,\n",
       " 0.4551670640739827,\n",
       " 0.419499425930118,\n",
       " 0.37978895076268315,\n",
       " 0.33959927856281175,\n",
       " 0.3013085348700217,\n",
       " 0.266263801000941)"
      ]
     },
     "execution_count": 17,
     "metadata": {},
     "output_type": "execute_result"
    }
   ],
   "source": [
    "import dask\n",
    "%time dask.compute(*results)"
   ]
  },
  {
   "cell_type": "code",
   "execution_count": 18,
   "metadata": {},
   "outputs": [
    {
     "data": {
      "text/plain": [
       "(0.49741702207072097,\n",
       " 0.48250344253961425,\n",
       " 0.4551670640739827,\n",
       " 0.419499425930118,\n",
       " 0.37978895076268315,\n",
       " 0.33959927856281175,\n",
       " 0.3013085348700217,\n",
       " 0.266263801000941)"
      ]
     },
     "execution_count": 18,
     "metadata": {},
     "output_type": "execute_result"
    }
   ],
   "source": [
    "futures = dask.persist(*results)\n",
    "futures"
   ]
  },
  {
   "cell_type": "code",
   "execution_count": 19,
   "metadata": {},
   "outputs": [],
   "source": [
    "client.cluster.scale(10)"
   ]
  },
  {
   "cell_type": "code",
   "execution_count": 20,
   "metadata": {},
   "outputs": [],
   "source": [
    "client.close()"
   ]
  },
  {
   "cell_type": "markdown",
   "metadata": {},
   "source": [
    "# Monte carlo en n-dimensiones\n",
    "\n",
    "Se hace la generalización en que solamente se divide la primera dimensión y se paraleliza sobre esa dimensión usando las otras diemnsiones completas.  \n",
    "Los intervalos sobre los que se trabaja son intervalos divididos en $p$ partes iguales para la primera dimensión y el intervalo de intergración completo para cada una de las siguientes dimensiones."
   ]
  },
  {
   "cell_type": "code",
   "execution_count": 46,
   "metadata": {},
   "outputs": [],
   "source": [
    "#funciones para multiples dimensiones\n",
    "\n",
    "def construye_subintervalos(ids,a,b,p,dims):\n",
    "    \"\"\"\n",
    "    Función que construye \"p\" subintervalos, delimitados entre a y b para la primera dimensión.    \n",
    "    En las demás dimensiones integra sobre el intervalo completo.\n",
    "    \n",
    "    Argumentos:\n",
    "    ----------\n",
    "    * ids: Identificador del core dónde se está corriendo el task. \n",
    "    * a (float): Vector con el límite inferior de cada intervalo de integración [ax1,ax2,...,axn] para cada diemnsión. Tiene dims entradas.\n",
    "    * b (float): Vector con el límite superior de cada intervalo de integración [bx1,bx2,...,bxn] para cada diemnsión. Tiene dims entradas.\n",
    "    * p (int) : Número de cores o cpus disponibles\n",
    "    * dims: Dimensiónes de la integral.\n",
    "    \n",
    "    Salidas:\n",
    "    -------\n",
    "    * intervalos : lista de pares de intervalos de integración ordenados por dimensión\n",
    "    \n",
    "    \"\"\"\n",
    "    if(dims==1):\n",
    "        tamano_int=(b-a)/p\n",
    "        begin= a + ids*tamano_int\n",
    "        end=begin+tamano_int\n",
    "        return (begin,end)\n",
    "\n",
    "    else:\n",
    "        tamano_int=(b-a)/p\n",
    "\n",
    "        #aux solamente cambia la primera dimension\n",
    "        aux=np.identity(dims)\n",
    "        aux=aux[0,:]\n",
    "        aux=aux*ids*tamano_int\n",
    "        begin= a + aux\n",
    "        \n",
    "        aux=np.identity(dims)\n",
    "        aux=aux[0,:]\n",
    "        aux=aux*tamano_int\n",
    "        end=begin+aux\n",
    "        \n",
    "        intervalos=[]\n",
    "        for i in range(dims):\n",
    "            if(i==0):\n",
    "                intervalos=np.append(intervalos,[begin[i],end[i]])\n",
    "            else:\n",
    "                intervalos=np.append(intervalos,[a[i],b[i]])\n",
    "                \n",
    "        return intervalos"
   ]
  },
  {
   "cell_type": "code",
   "execution_count": 47,
   "metadata": {},
   "outputs": [],
   "source": [
    "def evalua_subintervalos(intervalo,f,n_subint,dims):\n",
    "    \"\"\"\n",
    "    Función que evalúa la integral en cada uno los p subintervalos \\\\\n",
    "    previamente construidos con la función \"construye_subintervalos\"\n",
    "    \n",
    "    Argumentos:\n",
    "    ----------\n",
    "    * intervalo: Intervalo de la integral sobre la cual se va aproximar \\\\\n",
    "                 la integral\n",
    "    * f: Función que se está aproximando\n",
    "    * n_subint: Número de puntos o nodos en cada core o cpu\n",
    "    * dims: Dimensiones de la integral\n",
    "    \n",
    "    Salidas:\n",
    "    --------\n",
    "    + vol*np.mean(f(x)): Approximación a la integral\n",
    "    \n",
    "    \"\"\"   \n",
    "\n",
    "    x=[]\n",
    "    vol=1\n",
    "    for i in range(dims):\n",
    "        x=np.append(x,np.random.uniform(intervalo[2*i],intervalo[2*i+1],n_subint))\n",
    "        vol=vol*(intervalo[2*i+1]-intervalo[2*i])\n",
    "    \n",
    "    x=np.reshape(x,(n_subint,dims), order='F')\n",
    "    return np.mean(f(x))*vol"
   ]
  },
  {
   "cell_type": "markdown",
   "metadata": {},
   "source": [
    "### Ejemplo 1\n",
    " $ \\int_0^2 \\int_{-1}^1 \\int_0^1 (2x+3y+z)dzdydx = 10$\n",
    " \n",
    "metodo en paralelo"
   ]
  },
  {
   "cell_type": "markdown",
   "metadata": {},
   "source": [
    "Primero se realiza una aplicación del método sin utilizar computo en paralelo, para efectos de comparación.\n",
    "Sin embargo, cabe aclarar que la función `aprox_montecarlo` no es directamente comparable en la medida que "
   ]
  },
  {
   "cell_type": "code",
   "execution_count": 48,
   "metadata": {},
   "outputs": [],
   "source": [
    "def aprox_montecarlo(density_p, f, dims, x0=0, x1=2, y0=-1, y1=1, z0=0, z1=1):\n",
    "    '''\n",
    "    Función que computa aproximación de montecarlo ghasta en 3 dimensiones para la función n-variada en los intervalos\n",
    "    definidos.\n",
    "    _______\n",
    "    Argumentos:\n",
    "        - density_p (float): Densisdad para determinar cuantos puntos aleatorios se generan en cada dimensión a partir de una\n",
    "        distribución uniforme.\n",
    "        - f (lambda): función sobre la cual se va a integrar\n",
    "        - dims (int): número de dimensiones sobre las que se va a integrar\n",
    "    Salidas:\n",
    "        - aprox: aproximación de la integral por Montecarlo\n",
    "    '''\n",
    "    if dims == 3:\n",
    "        x_p=np.random.uniform(x0,x1,density_p)\n",
    "        y_p=np.random.uniform(y0,y1,density_p)\n",
    "        z_p=np.random.uniform(z0,z1,density_p)\n",
    "        \n",
    "        vol=(x1-x0)*(y1-y0)*(z1-z0)\n",
    "        approx=vol*np.mean(f(x_p,y_p,z_p))\n",
    "        \n",
    "    elif dims == 2:\n",
    "        x_p=np.random.uniform(x0,x1,density_p)\n",
    "        y_p=np.random.uniform(y0,y1,density_p)\n",
    "        \n",
    "        vol=(x1-x0)*(y1-y0)*(z1-z0)\n",
    "        approx=vol*np.mean(f(x_p,y_p,z_p)) \n",
    "        \n",
    "    return aprox"
   ]
  },
  {
   "cell_type": "markdown",
   "metadata": {},
   "source": [
    "Ahora evaluamos el rendimiento de esta función en términos de tiempo."
   ]
  },
  {
   "cell_type": "code",
   "execution_count": 49,
   "metadata": {},
   "outputs": [
    {
     "name": "stdout",
     "output_type": "stream",
     "text": [
      "Evalución de integral de montecarlo de forma secuencial:\n",
      "---------------------\n",
      "El valor calculado de la integral es:  3.1415475198108935\n",
      "El error relativo: 6.8585e-01\n",
      "El tiempo de ejecución: 0.7828741073608398 segundos\n",
      "---------------------\n"
     ]
    }
   ],
   "source": [
    "start_time = time.time()\n",
    "aprox = aprox_montecarlo(density_p=10**7, f=lambda x,y,z: 2*x+3*y+z, dims=3)\n",
    "end_time = time.time()\n",
    "secs = end_time-start_time\n",
    "\n",
    "# lambda statement para calcualr el error relativo\n",
    "err_rel=lambda ap,ob: math.fabs(ap-ob)/math.fabs(ob)\n",
    "\n",
    "print(\"Evalución de integral de montecarlo de forma secuencial:\")\n",
    "print(\"---------------------\")\n",
    "print(\"El valor calculado de la integral es: \",aprox)\n",
    "print(\"El error relativo: {:0.4e}\".format(err_rel(aprox,10)))\n",
    "print(f\"El tiempo de ejecución: {secs} segundos\")\n",
    "print(\"---------------------\")"
   ]
  },
  {
   "cell_type": "markdown",
   "metadata": {},
   "source": [
    "evaluación utilizando `%%time`"
   ]
  },
  {
   "cell_type": "code",
   "execution_count": 50,
   "metadata": {},
   "outputs": [
    {
     "name": "stdout",
     "output_type": "stream",
     "text": [
      "Evaluación de integral de montacarlo de forma secuencial:\n",
      "---------------------\n",
      "El valor calculado de la integral es:  3.1415475198108935\n",
      "El error relativo: 6.8585e-01\n",
      "El tiempo de ejecución: 0.7828741073608398 segundos\n",
      "* Intervalo par el área: \n",
      "(-21.15199619974249, 41.14789456957055)\n",
      "---------------------\n",
      "CPU times: user 422 ms, sys: 59.9 ms, total: 482 ms\n",
      "Wall time: 415 ms\n"
     ]
    }
   ],
   "source": [
    "%%time\n",
    "aprox = aprox_montecarlo(density_p=10**7, f=lambda x,y,z: 2*x+3*y+z, dims=3)\n",
    "print(\"Evaluación de integral de montacarlo de forma secuencial:\")\n",
    "print(\"---------------------\")\n",
    "print(\"El valor calculado de la integral es: \",aprox)\n",
    "print(\"El error relativo: {:0.4e}\".format(err_rel(aprox,10)))\n",
    "print(f\"El tiempo de ejecución: {secs} segundos\")\n",
    "print(\"* Intervalo par el área: \")\n",
    "print((approx-vol*error_est, approx+vol*error_est))\n",
    "print(\"---------------------\")"
   ]
  },
  {
   "cell_type": "markdown",
   "metadata": {},
   "source": [
    "Como se observa anteriormente, el tiempo de usuario de CPU, _CPU times_, (el tiempo que el procesador trabajó en el programa ejectuado) fue de 455 ms, mientras que el tiempo de _sys_ (lo que el procesador tarda en conectarse a funciones necesarias para que el programa se ejecute) fue de 57.8 ms. Por último, el _wall time_ calculado (tiempo que tarda el programa en ejecutarse de inicio a fin), fue de 513 ms. \n",
    "\n",
    "__pregunta para erick:__ ¿por qué es posible que wall time sea menor a total time (sys + CPU?\n",
    "\n",
    "Ahora se evaluará de nuevo el algoritmo, utilizando el `magic command`, `timeit`, el cual permite calcular el tiempo de ejecución de un programa en `python` tras ser ejecutado en un ciclo por `-n` veces, repitiendo este procedimiento `-r` veces. El _flag_ `-o` se utiliza para tener una salida de tipo `timeit` que pueda ser almacenada en una variable, en este caso, \"montecarlo_secuencial_timeit\"."
   ]
  },
  {
   "cell_type": "code",
   "execution_count": 182,
   "metadata": {},
   "outputs": [
    {
     "name": "stdout",
     "output_type": "stream",
     "text": [
      "382 ms ± 23 ms per loop (mean ± std. dev. of 10 runs, 5 loops each)\n"
     ]
    }
   ],
   "source": [
    "montecarlo_secuencial_timeit = %timeit -n 5 -r 10 -o aprox_montecarlo(density_p=10**7, f=lambda x,y,z: 2*x+3*y+z, dims=3)"
   ]
  },
  {
   "cell_type": "markdown",
   "metadata": {},
   "source": [
    "Luego de realizar el ejercicio anterior para obtener el rendimiento promedio del computo de nuestro programa, se obtiene que este se tarda aproximadamente 382 ms por loop, con una desviación de 23 ms. El resultado de realizar el ejercicio varias veces es consistente con el reportado anteriormente."
   ]
  },
  {
   "cell_type": "markdown",
   "metadata": {},
   "source": [
    "Ahora, se ejectua el ejercicio utilizando su **implementación en paralelo**:"
   ]
  },
  {
   "cell_type": "code",
   "execution_count": 51,
   "metadata": {},
   "outputs": [
    {
     "data": {
      "text/html": [
       "<table style=\"border: 2px solid white;\">\n",
       "<tr>\n",
       "<td style=\"vertical-align: top; border: 0px solid white\">\n",
       "<h3 style=\"text-align: left;\">Client</h3>\n",
       "<ul style=\"text-align: left; list-style: none; margin: 0; padding: 0;\">\n",
       "  <li><b>Scheduler: </b>tcp://127.0.0.1:62231</li>\n",
       "  <li><b>Dashboard: </b><a href='http://127.0.0.1:62232/status' target='_blank'>http://127.0.0.1:62232/status</a>\n",
       "</ul>\n",
       "</td>\n",
       "<td style=\"vertical-align: top; border: 0px solid white\">\n",
       "<h3 style=\"text-align: left;\">Cluster</h3>\n",
       "<ul style=\"text-align: left; list-style:none; margin: 0; padding: 0;\">\n",
       "  <li><b>Workers: </b>4</li>\n",
       "  <li><b>Cores: </b>8</li>\n",
       "  <li><b>Memory: </b>8.59 GB</li>\n",
       "</ul>\n",
       "</td>\n",
       "</tr>\n",
       "</table>"
      ],
      "text/plain": [
       "<Client: 'tcp://127.0.0.1:62231' processes=4 threads=8, memory=8.59 GB>"
      ]
     },
     "execution_count": 51,
     "metadata": {},
     "output_type": "execute_result"
    }
   ],
   "source": [
    "from dask.distributed import Client, progress\n",
    "client = Client()\n",
    "client"
   ]
  },
  {
   "cell_type": "code",
   "execution_count": 39,
   "metadata": {},
   "outputs": [
    {
     "name": "stdout",
     "output_type": "stream",
     "text": [
      "Número de procesadores: 8\n"
     ]
    }
   ],
   "source": [
    "# numero de procesadores\n",
    "p = multiprocessing.cpu_count()\n",
    "print(f\"Número de procesadores: {p}\")"
   ]
  },
  {
   "cell_type": "code",
   "execution_count": 52,
   "metadata": {},
   "outputs": [],
   "source": [
    "# numero de puntos a utlizar\n",
    "density_p = 10**7\n",
    "n_subint = int(density_p/p)\n",
    "\n",
    "# funcion a integrar\n",
    "# cada variable se toma como la columna de una matriz\n",
    "f = lambda x: 2*x[:,0]+3*x[:,1]+x[:,2]\n",
    "\n",
    "#reultado conocido de la integral (valor objetivo)\n",
    "obj=10\n",
    "\n",
    "# intervalo\n",
    "# se debe de poner (x1_a,x2_a,...,xn_a) para los mínimos\n",
    "a = np.array([0,-1,0])\n",
    "# se debe de poner (x1_b,x2_b,...,xn_b) para los máxios\n",
    "b = np.array([2,1,1])\n",
    "\n",
    "# volumen\n",
    "vol = np.prod(b-a)\n",
    "\n",
    "#dimensiones\n",
    "dims=len(a)"
   ]
  },
  {
   "cell_type": "code",
   "execution_count": 53,
   "metadata": {},
   "outputs": [
    {
     "name": "stdout",
     "output_type": "stream",
     "text": [
      "---------------------\n",
      "El valor calculado de la integral es:  9.995916280438724\n",
      "El error relativo: 4.0837e-04\n",
      "---------------------\n",
      "CPU times: user 179 ms, sys: 52.5 ms, total: 232 ms\n",
      "Wall time: 541 ms\n"
     ]
    }
   ],
   "source": [
    "%%time\n",
    "#llamado para multiples dimensiones\n",
    "futures_intervalos = client.map(construye_subintervalos, range(p),\n",
    "                                            **{'a':a,\n",
    "                                               'b':b,\n",
    "                                               'p':p,\n",
    "                                               'dims':dims})\n",
    "\n",
    "futures_evaluando=client.map(evalua_subintervalos, futures_intervalos,\n",
    "                                            **{'f':f,\n",
    "                                               'n_subint':n_subint,\n",
    "                                               'dims':dims})\n",
    "\n",
    "results=client.gather(futures_evaluando)\n",
    "aprox=sum(results)\n",
    "\n",
    "print(\"---------------------\")\n",
    "print(\"El valor calculado de la integral es: \",aprox)\n",
    "print(\"El error relativo: {:0.4e}\".format(err_rel(aprox,obj)))\n",
    "print(\"---------------------\")"
   ]
  },
  {
   "cell_type": "markdown",
   "metadata": {},
   "source": [
    "Como se puede observar, en este primer ejercicio de medición, el tiempo tanto en _CPU times_, como en _sys_ y _total_\n",
    "es menor en la implementación en paralelo. El resultado también es consistente con las mediciones del tiempo de inicia fin de ejecución del programa entero, correspondiente a _walltime_.\n",
    "\n",
    "Con el fin de visualizar el tiempo de ejecución de las tareas paralelizadas, se presenta a continuación la gráfica generada en `dask` por medio de `bokeh`:\n",
    "\n",
    "![dask_tasKstream](imgs/mc_ndim_dask_taskStream.png)\n",
    "\n",
    "Como se puede observar, al igual que en ejercicio de montecarlo para una dimensión, el bloque `construye_subintervalos` es la tarea que menos tiempo tarda en ejecutarse, lo cual podría ser anticipable, en la medida que solo implica la construcción de subintervalos en función del número de _cores_ empledos en la tarea. Por otro lado, la tarea `evalua_subintervalos` es la que mayor tiempo de computo lleva, en la medida que implica el cálculo de un área para cada subintervalor, lo que implica mayor complejidad.  "
   ]
  },
  {
   "cell_type": "code",
   "execution_count": 33,
   "metadata": {},
   "outputs": [],
   "source": [
    "client.close()"
   ]
  },
  {
   "cell_type": "markdown",
   "metadata": {},
   "source": [
    "# Referencias:\n",
    "- Notas de clase de MNO 2020, disponibles en: https://github.com/ITAM-DS/analisis-numerico-computo-cientifico/blob/master/temas/II.computo_paralelo/2.2.Python_dask.ipynb\n",
    "- Documentación de Dask, disponible [aquí](https://docs.dask.org/en/latest/)"
   ]
  }
 ],
 "metadata": {
  "kernelspec": {
   "display_name": "Python 3",
   "language": "python",
   "name": "python3"
  },
  "language_info": {
   "codemirror_mode": {
    "name": "ipython",
    "version": 3
   },
   "file_extension": ".py",
   "mimetype": "text/x-python",
   "name": "python",
   "nbconvert_exporter": "python",
   "pygments_lexer": "ipython3",
   "version": "3.7.6"
  }
 },
 "nbformat": 4,
 "nbformat_minor": 4
}
