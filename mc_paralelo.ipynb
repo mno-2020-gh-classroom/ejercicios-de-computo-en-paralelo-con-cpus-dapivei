{
 "cells": [
  {
   "cell_type": "markdown",
   "metadata": {},
   "source": [
    "# MONTECARLO PARALELIZADO"
   ]
  },
  {
   "cell_type": "markdown",
   "metadata": {},
   "source": [
    "## Instalaciones necesarias"
   ]
  },
  {
   "cell_type": "markdown",
   "metadata": {},
   "source": [
    "- Para que el código a continuación funcione, es necesario tener instalado `dask`."
   ]
  },
  {
   "cell_type": "code",
   "execution_count": 1,
   "metadata": {},
   "outputs": [
    {
     "name": "stdout",
     "output_type": "stream",
     "text": [
      "Collecting dask\n",
      "\u001b[?25l  Downloading https://files.pythonhosted.org/packages/2d/30/20be641e512cc40ea6aaabd0d1dcda3fa4636420d18601eadf6af7b29a7a/dask-2.14.0-py3-none-any.whl (794kB)\n",
      "\u001b[K     |████████████████████████████████| 798kB 606kB/s eta 0:00:01\n",
      "\u001b[?25hInstalling collected packages: dask\n",
      "Successfully installed dask-2.14.0\n",
      "\u001b[33mWARNING: You are using pip version 19.3.1; however, version 20.0.2 is available.\n",
      "You should consider upgrading via the 'pip install --upgrade pip' command.\u001b[0m\n",
      "Note: you may need to restart the kernel to use updated packages.\n"
     ]
    }
   ],
   "source": [
    "%pip install --user dask   "
   ]
  },
  {
   "cell_type": "code",
   "execution_count": 2,
   "metadata": {},
   "outputs": [
    {
     "name": "stdout",
     "output_type": "stream",
     "text": [
      "Requirement already satisfied: dask in /home/miuser/.local/lib/python3.6/site-packages (2.14.0)\n",
      "Collecting distributed\n",
      "\u001b[?25l  Downloading https://files.pythonhosted.org/packages/22/9d/7cd4eeec526e8627a6a04980e2bac809aafe90b24a5e357c07434eb8412a/distributed-2.14.0-py3-none-any.whl (609kB)\n",
      "\u001b[K     |████████████████████████████████| 614kB 598kB/s eta 0:00:01\n",
      "\u001b[?25hCollecting msgpack>=0.6.0\n",
      "\u001b[?25l  Downloading https://files.pythonhosted.org/packages/c9/35/33aa1af0700d21beabdf74373f31c52c048be8ee082f98edbc37ba3ae956/msgpack-1.0.0-cp36-cp36m-manylinux1_x86_64.whl (274kB)\n",
      "\u001b[K     |████████████████████████████████| 276kB 4.4MB/s eta 0:00:01\n",
      "\u001b[?25hCollecting tblib>=1.6.0\n",
      "  Downloading https://files.pythonhosted.org/packages/0d/de/dca3e651ca62e59c08d324f4a51467fa4b8cbeaafb883b5e83720b4d4a47/tblib-1.6.0-py2.py3-none-any.whl\n",
      "Collecting pyyaml\n",
      "\u001b[?25l  Downloading https://files.pythonhosted.org/packages/64/c2/b80047c7ac2478f9501676c988a5411ed5572f35d1beff9cae07d321512c/PyYAML-5.3.1.tar.gz (269kB)\n",
      "\u001b[K     |████████████████████████████████| 276kB 2.4MB/s eta 0:00:01\n",
      "\u001b[?25hCollecting psutil>=5.0\n",
      "\u001b[?25l  Downloading https://files.pythonhosted.org/packages/c4/b8/3512f0e93e0db23a71d82485ba256071ebef99b227351f0f5540f744af41/psutil-5.7.0.tar.gz (449kB)\n",
      "\u001b[K     |████████████████████████████████| 450kB 2.5MB/s eta 0:00:01\n",
      "\u001b[?25hCollecting zict>=0.1.3\n",
      "  Downloading https://files.pythonhosted.org/packages/5a/65/0f743c740c30cace984ef8ff96fd1e991083fa884900a8aad3efff3252b9/zict-2.0.0-py3-none-any.whl\n",
      "Requirement already satisfied: setuptools in /usr/lib/python3/dist-packages (from distributed) (39.0.1)\n",
      "Collecting sortedcontainers!=2.0.0,!=2.0.1\n",
      "  Downloading https://files.pythonhosted.org/packages/13/f3/cf85f7c3a2dbd1a515d51e1f1676d971abe41bba6f4ab5443240d9a78e5b/sortedcontainers-2.1.0-py2.py3-none-any.whl\n",
      "Requirement already satisfied: tornado>=5; python_version < \"3.8\" in /usr/local/lib/python3.6/dist-packages (from distributed) (6.0.3)\n",
      "Collecting cloudpickle>=0.2.2\n",
      "  Downloading https://files.pythonhosted.org/packages/ea/0b/189cd3c19faf362ff2df5f301456c6cf8571ef6684644cfdfdbff293825c/cloudpickle-1.3.0-py2.py3-none-any.whl\n",
      "Collecting toolz>=0.8.2\n",
      "\u001b[?25l  Downloading https://files.pythonhosted.org/packages/22/8e/037b9ba5c6a5739ef0dcde60578c64d49f45f64c5e5e886531bfbc39157f/toolz-0.10.0.tar.gz (49kB)\n",
      "\u001b[K     |████████████████████████████████| 51kB 1.0MB/s eta 0:00:011\n",
      "\u001b[?25hCollecting click>=6.6\n",
      "\u001b[?25l  Downloading https://files.pythonhosted.org/packages/dd/c0/4d8f43a9b16e289f36478422031b8a63b54b6ac3b1ba605d602f10dd54d6/click-7.1.1-py2.py3-none-any.whl (82kB)\n",
      "\u001b[K     |████████████████████████████████| 92kB 1.6MB/s eta 0:00:011\n",
      "\u001b[?25hCollecting heapdict\n",
      "  Downloading https://files.pythonhosted.org/packages/b6/9d/cd4777dbcf3bef9d9627e0fe4bc43d2e294b1baeb01d0422399d5e9de319/HeapDict-1.0.1-py3-none-any.whl\n",
      "Building wheels for collected packages: pyyaml, psutil, toolz\n",
      "  Building wheel for pyyaml (setup.py) ... \u001b[?25ldone\n",
      "\u001b[?25h  Created wheel for pyyaml: filename=PyYAML-5.3.1-cp36-cp36m-linux_x86_64.whl size=45919 sha256=4dcb8da69c2beb3982c2bb80d57f5b83c3226b2ae2b7918e05b1dba59649b6ff\n",
      "  Stored in directory: /home/miuser/.cache/pip/wheels/a7/c1/ea/cf5bd31012e735dc1dfea3131a2d5eae7978b251083d6247bd\n",
      "  Building wheel for psutil (setup.py) ... \u001b[?25ldone\n",
      "\u001b[?25h  Created wheel for psutil: filename=psutil-5.7.0-cp36-cp36m-linux_x86_64.whl size=279874 sha256=01c5228e1ad4ddfa5acd50eea4984a382ff057b50022f95c2ec08ea7cadbc497\n",
      "  Stored in directory: /home/miuser/.cache/pip/wheels/d7/69/b4/3200b95828d1f0ddb3cb5699083717f4fdbd9b4223d0644c57\n",
      "  Building wheel for toolz (setup.py) ... \u001b[?25ldone\n",
      "\u001b[?25h  Created wheel for toolz: filename=toolz-0.10.0-cp36-none-any.whl size=57161 sha256=24ada1973b55f89e1c5e146fa603569be18cc9795d5486f6f4868f68f513a6e6\n",
      "  Stored in directory: /home/miuser/.cache/pip/wheels/e1/8b/65/3294e5b727440250bda09e8c0153b7ba19d328f661605cb151\n",
      "Successfully built pyyaml psutil toolz\n",
      "Installing collected packages: msgpack, tblib, pyyaml, psutil, heapdict, zict, sortedcontainers, cloudpickle, toolz, click, distributed\n",
      "\u001b[33m  WARNING: The scripts dask-scheduler, dask-ssh and dask-worker are installed in '/home/miuser/.local/bin' which is not on PATH.\n",
      "  Consider adding this directory to PATH or, if you prefer to suppress this warning, use --no-warn-script-location.\u001b[0m\n",
      "Successfully installed click-7.1.1 cloudpickle-1.3.0 distributed-2.14.0 heapdict-1.0.1 msgpack-1.0.0 psutil-5.7.0 pyyaml-5.3.1 sortedcontainers-2.1.0 tblib-1.6.0 toolz-0.10.0 zict-2.0.0\n",
      "\u001b[33mWARNING: You are using pip version 19.3.1; however, version 20.0.2 is available.\n",
      "You should consider upgrading via the 'pip install --upgrade pip' command.\u001b[0m\n",
      "Note: you may need to restart the kernel to use updated packages.\n"
     ]
    }
   ],
   "source": [
    "%pip install --user dask distributed"
   ]
  },
  {
   "cell_type": "markdown",
   "metadata": {},
   "source": [
    "- Para habilitar el dashboard, debemos installar `bokeh` :"
   ]
  },
  {
   "cell_type": "code",
   "execution_count": 3,
   "metadata": {},
   "outputs": [
    {
     "name": "stdout",
     "output_type": "stream",
     "text": [
      "Collecting bokeh\n",
      "\u001b[?25l  Downloading https://files.pythonhosted.org/packages/45/83/20bd995c4d79f8947fb2c9b80fa729157300d252a63c412d0f5a4915ff07/bokeh-2.0.1.tar.gz (8.6MB)\n",
      "\u001b[K     |████████████████████████████████| 8.6MB 4.2MB/s eta 0:00:01\n",
      "\u001b[?25hRequirement already satisfied: Jinja2>=2.7 in /usr/local/lib/python3.6/dist-packages (from bokeh) (2.10.3)\n",
      "Requirement already satisfied: PyYAML>=3.10 in /home/miuser/.local/lib/python3.6/site-packages (from bokeh) (5.3.1)\n",
      "Collecting numpy>=1.11.3\n",
      "\u001b[?25l  Downloading https://files.pythonhosted.org/packages/07/08/a549ba8b061005bb629b76adc000f3caaaf881028b963c2e18f811c6edc1/numpy-1.18.2-cp36-cp36m-manylinux1_x86_64.whl (20.2MB)\n",
      "\u001b[K     |████████████████████████████████| 20.2MB 5.2MB/s eta 0:00:01\n",
      "\u001b[?25hCollecting packaging>=16.8\n",
      "  Downloading https://files.pythonhosted.org/packages/62/0a/34641d2bf5c917c96db0ded85ae4da25b6cd922d6b794648d4e7e07c88e5/packaging-20.3-py2.py3-none-any.whl\n",
      "Collecting pillow>=4.0\n",
      "\u001b[?25l  Downloading https://files.pythonhosted.org/packages/ba/90/8a24e6220cfcf6a3a0162535d5b926e774117e384ff921908e07e4c92bda/Pillow-7.1.1-cp36-cp36m-manylinux1_x86_64.whl (2.1MB)\n",
      "\u001b[K     |████████████████████████████████| 2.1MB 548kB/s eta 0:00:01\n",
      "\u001b[?25hRequirement already satisfied: python-dateutil>=2.1 in /usr/local/lib/python3.6/dist-packages (from bokeh) (2.8.1)\n",
      "Requirement already satisfied: tornado>=5 in /usr/local/lib/python3.6/dist-packages (from bokeh) (6.0.3)\n",
      "Collecting typing_extensions>=3.7.4\n",
      "  Downloading https://files.pythonhosted.org/packages/0c/0e/3f026d0645d699e7320b59952146d56ad7c374e9cd72cd16e7c74e657a0f/typing_extensions-3.7.4.2-py3-none-any.whl\n",
      "Requirement already satisfied: MarkupSafe>=0.23 in /usr/local/lib/python3.6/dist-packages (from Jinja2>=2.7->bokeh) (1.1.1)\n",
      "Requirement already satisfied: six in /usr/lib/python3/dist-packages (from packaging>=16.8->bokeh) (1.11.0)\n",
      "Collecting pyparsing>=2.0.2\n",
      "\u001b[?25l  Downloading https://files.pythonhosted.org/packages/8a/bb/488841f56197b13700afd5658fc279a2025a39e22449b7cf29864669b15d/pyparsing-2.4.7-py2.py3-none-any.whl (67kB)\n",
      "\u001b[K     |████████████████████████████████| 71kB 1.3MB/s eta 0:00:011\n",
      "\u001b[?25hBuilding wheels for collected packages: bokeh\n",
      "  Building wheel for bokeh (setup.py) ... \u001b[?25ldone\n",
      "\u001b[?25h  Created wheel for bokeh: filename=bokeh-2.0.1-cp36-none-any.whl size=9082987 sha256=b813f5f1513d4ba1b413abc68fdd20332a1cb78ceedb58d9ffce4c88cf69119c\n",
      "  Stored in directory: /home/miuser/.cache/pip/wheels/de/64/d0/e7f70919e19f57a6efceb65cc4edaa0449e707bcdb6e7e61ad\n",
      "Successfully built bokeh\n",
      "Installing collected packages: numpy, pyparsing, packaging, pillow, typing-extensions, bokeh\n",
      "\u001b[33m  WARNING: The scripts f2py, f2py3 and f2py3.6 are installed in '/home/miuser/.local/bin' which is not on PATH.\n",
      "  Consider adding this directory to PATH or, if you prefer to suppress this warning, use --no-warn-script-location.\u001b[0m\n",
      "\u001b[33m  WARNING: The script bokeh is installed in '/home/miuser/.local/bin' which is not on PATH.\n",
      "  Consider adding this directory to PATH or, if you prefer to suppress this warning, use --no-warn-script-location.\u001b[0m\n",
      "Successfully installed bokeh-2.0.1 numpy-1.18.2 packaging-20.3 pillow-7.1.1 pyparsing-2.4.7 typing-extensions-3.7.4.2\n",
      "\u001b[33mWARNING: You are using pip version 19.3.1; however, version 20.0.2 is available.\n",
      "You should consider upgrading via the 'pip install --upgrade pip' command.\u001b[0m\n",
      "Note: you may need to restart the kernel to use updated packages.\n"
     ]
    }
   ],
   "source": [
    "%pip install --user bokeh"
   ]
  },
  {
   "cell_type": "code",
   "execution_count": 4,
   "metadata": {},
   "outputs": [
    {
     "name": "stdout",
     "output_type": "stream",
     "text": [
      "Reading package lists...\n",
      "Building dependency tree...\n",
      "Reading state information...\n",
      "The following additional packages will be installed:\n",
      "  fontconfig fontconfig-config fonts-dejavu-core fonts-liberation libann0\n",
      "  libcairo2 libcdt5 libcgraph6 libdatrie1 libfontconfig1 libfreetype6 libgd3\n",
      "  libgraphite2-3 libgts-0.7-5 libgts-bin libgvc6 libgvpr2 libharfbuzz0b\n",
      "  libice6 libjbig0 libjpeg-turbo8 libjpeg8 liblab-gamut1 libltdl7\n",
      "  libpango-1.0-0 libpangocairo-1.0-0 libpangoft2-1.0-0 libpathplan4\n",
      "  libpixman-1-0 libpng16-16 libsm6 libthai-data libthai0 libtiff5 libwebp6\n",
      "  libxaw7 libxcb-render0 libxcb-shm0 libxmu6 libxpm4 libxrender1 libxt6 ucf\n",
      "  x11-common\n",
      "Suggested packages:\n",
      "  gsfonts graphviz-doc libgd-tools\n",
      "The following NEW packages will be installed:\n",
      "  fontconfig fontconfig-config fonts-dejavu-core fonts-liberation graphviz\n",
      "  libann0 libcairo2 libcdt5 libcgraph6 libdatrie1 libfontconfig1 libfreetype6\n",
      "  libgd3 libgraphite2-3 libgts-0.7-5 libgts-bin libgvc6 libgvpr2 libharfbuzz0b\n",
      "  libice6 libjbig0 libjpeg-turbo8 libjpeg8 liblab-gamut1 libltdl7\n",
      "  libpango-1.0-0 libpangocairo-1.0-0 libpangoft2-1.0-0 libpathplan4\n",
      "  libpixman-1-0 libpng16-16 libsm6 libthai-data libthai0 libtiff5 libwebp6\n",
      "  libxaw7 libxcb-render0 libxcb-shm0 libxmu6 libxpm4 libxrender1 libxt6 ucf\n",
      "  x11-common\n",
      "0 upgraded, 45 newly installed, 0 to remove and 31 not upgraded.\n",
      "Need to get 7292 kB of archives.\n",
      "After this operation, 25.6 MB of additional disk space will be used.\n",
      "Get:1 http://archive.ubuntu.com/ubuntu bionic-updates/main amd64 libpng16-16 amd64 1.6.34-1ubuntu0.18.04.2 [176 kB]\n",
      "Get:2 http://archive.ubuntu.com/ubuntu bionic/main amd64 libfreetype6 amd64 2.8.1-2ubuntu2 [335 kB]\n",
      "Get:3 http://archive.ubuntu.com/ubuntu bionic/main amd64 ucf all 3.0038 [50.5 kB]\n",
      "Get:4 http://archive.ubuntu.com/ubuntu bionic/main amd64 fonts-dejavu-core all 2.37-1 [1041 kB]\n",
      "Get:5 http://archive.ubuntu.com/ubuntu bionic-updates/main amd64 fonts-liberation all 1:1.07.4-7~18.04.1 [822 kB]\n",
      "Get:6 http://archive.ubuntu.com/ubuntu bionic/main amd64 fontconfig-config all 2.12.6-0ubuntu2 [55.8 kB]\n",
      "Get:7 http://archive.ubuntu.com/ubuntu bionic/main amd64 libfontconfig1 amd64 2.12.6-0ubuntu2 [137 kB]\n",
      "Get:8 http://archive.ubuntu.com/ubuntu bionic/main amd64 fontconfig amd64 2.12.6-0ubuntu2 [169 kB]\n",
      "Get:9 http://archive.ubuntu.com/ubuntu bionic-updates/main amd64 libjpeg-turbo8 amd64 1.5.2-0ubuntu5.18.04.3 [110 kB]\n",
      "Get:10 http://archive.ubuntu.com/ubuntu bionic-updates/main amd64 x11-common all 1:7.7+19ubuntu7.1 [22.5 kB]\n",
      "Get:11 http://archive.ubuntu.com/ubuntu bionic/main amd64 libice6 amd64 2:1.0.9-2 [40.2 kB]\n",
      "Get:12 http://archive.ubuntu.com/ubuntu bionic/main amd64 libsm6 amd64 2:1.2.2-1 [15.8 kB]\n",
      "Get:13 http://archive.ubuntu.com/ubuntu bionic/universe amd64 libann0 amd64 1.1.2+doc-6 [24.8 kB]\n",
      "Get:14 http://archive.ubuntu.com/ubuntu bionic/universe amd64 libcdt5 amd64 2.40.1-2 [19.6 kB]\n",
      "Get:15 http://archive.ubuntu.com/ubuntu bionic/universe amd64 libcgraph6 amd64 2.40.1-2 [40.8 kB]\n",
      "Get:16 http://archive.ubuntu.com/ubuntu bionic/main amd64 libjpeg8 amd64 8c-2ubuntu8 [2194 B]\n",
      "Get:17 http://archive.ubuntu.com/ubuntu bionic/main amd64 libjbig0 amd64 2.1-3.1build1 [26.7 kB]\n",
      "Get:18 http://archive.ubuntu.com/ubuntu bionic-updates/main amd64 libtiff5 amd64 4.0.9-5ubuntu0.3 [153 kB]\n",
      "Get:19 http://archive.ubuntu.com/ubuntu bionic/main amd64 libwebp6 amd64 0.6.1-2 [185 kB]\n",
      "Get:20 http://archive.ubuntu.com/ubuntu bionic/main amd64 libxpm4 amd64 1:3.5.12-1 [34.0 kB]\n",
      "Ign:21 http://archive.ubuntu.com/ubuntu bionic-updates/main amd64 libgd3 amd64 2.2.5-4ubuntu0.3\n",
      "Get:22 http://archive.ubuntu.com/ubuntu bionic/universe amd64 libgts-0.7-5 amd64 0.7.6+darcs121130-4 [150 kB]\n",
      "Get:23 http://archive.ubuntu.com/ubuntu bionic/main amd64 libpixman-1-0 amd64 0.34.0-2 [229 kB]\n",
      "Get:24 http://archive.ubuntu.com/ubuntu bionic-updates/main amd64 libxcb-render0 amd64 1.13-2~ubuntu18.04 [14.7 kB]\n",
      "Get:25 http://archive.ubuntu.com/ubuntu bionic-updates/main amd64 libxcb-shm0 amd64 1.13-2~ubuntu18.04 [5600 B]\n",
      "Get:26 http://archive.ubuntu.com/ubuntu bionic/main amd64 libxrender1 amd64 1:0.9.10-1 [18.7 kB]\n",
      "Get:27 http://archive.ubuntu.com/ubuntu bionic-updates/main amd64 libcairo2 amd64 1.15.10-2ubuntu0.1 [580 kB]\n",
      "Get:28 http://archive.ubuntu.com/ubuntu bionic/main amd64 libltdl7 amd64 2.4.6-2 [38.8 kB]\n",
      "Get:29 http://archive.ubuntu.com/ubuntu bionic/main amd64 libthai-data all 0.1.27-2 [133 kB]\n",
      "Err:21 http://security.ubuntu.com/ubuntu bionic-updates/main amd64 libgd3 amd64 2.2.5-4ubuntu0.3\n",
      "  404  Not Found [IP: 91.189.88.142 80]\n",
      "Get:30 http://archive.ubuntu.com/ubuntu bionic/main amd64 libdatrie1 amd64 0.2.10-7 [17.8 kB]\n",
      "Get:31 http://archive.ubuntu.com/ubuntu bionic/main amd64 libthai0 amd64 0.1.27-2 [18.0 kB]\n",
      "Get:32 http://archive.ubuntu.com/ubuntu bionic-updates/main amd64 libpango-1.0-0 amd64 1.40.14-1ubuntu0.1 [153 kB]\n",
      "Get:33 http://archive.ubuntu.com/ubuntu bionic/main amd64 libgraphite2-3 amd64 1.3.11-2 [78.7 kB]\n",
      "Get:34 http://archive.ubuntu.com/ubuntu bionic/main amd64 libharfbuzz0b amd64 1.7.2-1ubuntu1 [232 kB]\n",
      "Get:35 http://archive.ubuntu.com/ubuntu bionic-updates/main amd64 libpangoft2-1.0-0 amd64 1.40.14-1ubuntu0.1 [33.2 kB]\n",
      "Get:36 http://archive.ubuntu.com/ubuntu bionic-updates/main amd64 libpangocairo-1.0-0 amd64 1.40.14-1ubuntu0.1 [20.8 kB]\n",
      "Get:37 http://archive.ubuntu.com/ubuntu bionic/universe amd64 libpathplan4 amd64 2.40.1-2 [22.6 kB]\n",
      "Get:38 http://archive.ubuntu.com/ubuntu bionic/universe amd64 libgvc6 amd64 2.40.1-2 [601 kB]\n",
      "Get:39 http://archive.ubuntu.com/ubuntu bionic/universe amd64 libgvpr2 amd64 2.40.1-2 [169 kB]\n",
      "Get:40 http://archive.ubuntu.com/ubuntu bionic/universe amd64 liblab-gamut1 amd64 2.40.1-2 [178 kB]\n",
      "Get:41 http://archive.ubuntu.com/ubuntu bionic/main amd64 libxt6 amd64 1:1.1.5-1 [160 kB]\n",
      "Get:42 http://archive.ubuntu.com/ubuntu bionic/main amd64 libxmu6 amd64 2:1.1.2-2 [46.0 kB]\n",
      "Get:43 http://archive.ubuntu.com/ubuntu bionic/main amd64 libxaw7 amd64 2:1.0.13-1 [173 kB]\n",
      "Get:44 http://archive.ubuntu.com/ubuntu bionic/universe amd64 graphviz amd64 2.40.1-2 [601 kB]\n",
      "Get:45 http://archive.ubuntu.com/ubuntu bionic/universe amd64 libgts-bin amd64 0.7.6+darcs121130-4 [41.3 kB]\n",
      "Fetched 7174 kB in 5s (1400 kB/s)\n"
     ]
    },
    {
     "name": "stderr",
     "output_type": "stream",
     "text": [
      "E: Failed to fetch http://security.ubuntu.com/ubuntu/pool/main/libg/libgd2/libgd3_2.2.5-4ubuntu0.3_amd64.deb  404  Not Found [IP: 91.189.88.142 80]\n",
      "E: Unable to fetch some archives, maybe run apt-get update or try with --fix-missing?\n"
     ]
    },
    {
     "ename": "CalledProcessError",
     "evalue": "Command 'b'sudo apt-get install -y graphviz\\n'' returned non-zero exit status 100.",
     "output_type": "error",
     "traceback": [
      "\u001b[0;31m---------------------------------------------------------------------------\u001b[0m",
      "\u001b[0;31mCalledProcessError\u001b[0m                        Traceback (most recent call last)",
      "\u001b[0;32m<ipython-input-4-b2674c6cd8f1>\u001b[0m in \u001b[0;36m<module>\u001b[0;34m\u001b[0m\n\u001b[0;32m----> 1\u001b[0;31m \u001b[0mget_ipython\u001b[0m\u001b[0;34m(\u001b[0m\u001b[0;34m)\u001b[0m\u001b[0;34m.\u001b[0m\u001b[0mrun_cell_magic\u001b[0m\u001b[0;34m(\u001b[0m\u001b[0;34m'bash'\u001b[0m\u001b[0;34m,\u001b[0m \u001b[0;34m''\u001b[0m\u001b[0;34m,\u001b[0m \u001b[0;34m'sudo apt-get install -y graphviz\\n'\u001b[0m\u001b[0;34m)\u001b[0m\u001b[0;34m\u001b[0m\u001b[0;34m\u001b[0m\u001b[0m\n\u001b[0m",
      "\u001b[0;32m/usr/local/lib/python3.6/dist-packages/IPython/core/interactiveshell.py\u001b[0m in \u001b[0;36mrun_cell_magic\u001b[0;34m(self, magic_name, line, cell)\u001b[0m\n\u001b[1;32m   2350\u001b[0m             \u001b[0;32mwith\u001b[0m \u001b[0mself\u001b[0m\u001b[0;34m.\u001b[0m\u001b[0mbuiltin_trap\u001b[0m\u001b[0;34m:\u001b[0m\u001b[0;34m\u001b[0m\u001b[0;34m\u001b[0m\u001b[0m\n\u001b[1;32m   2351\u001b[0m                 \u001b[0margs\u001b[0m \u001b[0;34m=\u001b[0m \u001b[0;34m(\u001b[0m\u001b[0mmagic_arg_s\u001b[0m\u001b[0;34m,\u001b[0m \u001b[0mcell\u001b[0m\u001b[0;34m)\u001b[0m\u001b[0;34m\u001b[0m\u001b[0;34m\u001b[0m\u001b[0m\n\u001b[0;32m-> 2352\u001b[0;31m                 \u001b[0mresult\u001b[0m \u001b[0;34m=\u001b[0m \u001b[0mfn\u001b[0m\u001b[0;34m(\u001b[0m\u001b[0;34m*\u001b[0m\u001b[0margs\u001b[0m\u001b[0;34m,\u001b[0m \u001b[0;34m**\u001b[0m\u001b[0mkwargs\u001b[0m\u001b[0;34m)\u001b[0m\u001b[0;34m\u001b[0m\u001b[0;34m\u001b[0m\u001b[0m\n\u001b[0m\u001b[1;32m   2353\u001b[0m             \u001b[0;32mreturn\u001b[0m \u001b[0mresult\u001b[0m\u001b[0;34m\u001b[0m\u001b[0;34m\u001b[0m\u001b[0m\n\u001b[1;32m   2354\u001b[0m \u001b[0;34m\u001b[0m\u001b[0m\n",
      "\u001b[0;32m/usr/local/lib/python3.6/dist-packages/IPython/core/magics/script.py\u001b[0m in \u001b[0;36mnamed_script_magic\u001b[0;34m(line, cell)\u001b[0m\n\u001b[1;32m    140\u001b[0m             \u001b[0;32melse\u001b[0m\u001b[0;34m:\u001b[0m\u001b[0;34m\u001b[0m\u001b[0;34m\u001b[0m\u001b[0m\n\u001b[1;32m    141\u001b[0m                 \u001b[0mline\u001b[0m \u001b[0;34m=\u001b[0m \u001b[0mscript\u001b[0m\u001b[0;34m\u001b[0m\u001b[0;34m\u001b[0m\u001b[0m\n\u001b[0;32m--> 142\u001b[0;31m             \u001b[0;32mreturn\u001b[0m \u001b[0mself\u001b[0m\u001b[0;34m.\u001b[0m\u001b[0mshebang\u001b[0m\u001b[0;34m(\u001b[0m\u001b[0mline\u001b[0m\u001b[0;34m,\u001b[0m \u001b[0mcell\u001b[0m\u001b[0;34m)\u001b[0m\u001b[0;34m\u001b[0m\u001b[0;34m\u001b[0m\u001b[0m\n\u001b[0m\u001b[1;32m    143\u001b[0m \u001b[0;34m\u001b[0m\u001b[0m\n\u001b[1;32m    144\u001b[0m         \u001b[0;31m# write a basic docstring:\u001b[0m\u001b[0;34m\u001b[0m\u001b[0;34m\u001b[0m\u001b[0;34m\u001b[0m\u001b[0m\n",
      "\u001b[0;32m</usr/local/lib/python3.6/dist-packages/decorator.py:decorator-gen-110>\u001b[0m in \u001b[0;36mshebang\u001b[0;34m(self, line, cell)\u001b[0m\n",
      "\u001b[0;32m/usr/local/lib/python3.6/dist-packages/IPython/core/magic.py\u001b[0m in \u001b[0;36m<lambda>\u001b[0;34m(f, *a, **k)\u001b[0m\n\u001b[1;32m    185\u001b[0m     \u001b[0;31m# but it's overkill for just that one bit of state.\u001b[0m\u001b[0;34m\u001b[0m\u001b[0;34m\u001b[0m\u001b[0;34m\u001b[0m\u001b[0m\n\u001b[1;32m    186\u001b[0m     \u001b[0;32mdef\u001b[0m \u001b[0mmagic_deco\u001b[0m\u001b[0;34m(\u001b[0m\u001b[0marg\u001b[0m\u001b[0;34m)\u001b[0m\u001b[0;34m:\u001b[0m\u001b[0;34m\u001b[0m\u001b[0;34m\u001b[0m\u001b[0m\n\u001b[0;32m--> 187\u001b[0;31m         \u001b[0mcall\u001b[0m \u001b[0;34m=\u001b[0m \u001b[0;32mlambda\u001b[0m \u001b[0mf\u001b[0m\u001b[0;34m,\u001b[0m \u001b[0;34m*\u001b[0m\u001b[0ma\u001b[0m\u001b[0;34m,\u001b[0m \u001b[0;34m**\u001b[0m\u001b[0mk\u001b[0m\u001b[0;34m:\u001b[0m \u001b[0mf\u001b[0m\u001b[0;34m(\u001b[0m\u001b[0;34m*\u001b[0m\u001b[0ma\u001b[0m\u001b[0;34m,\u001b[0m \u001b[0;34m**\u001b[0m\u001b[0mk\u001b[0m\u001b[0;34m)\u001b[0m\u001b[0;34m\u001b[0m\u001b[0;34m\u001b[0m\u001b[0m\n\u001b[0m\u001b[1;32m    188\u001b[0m \u001b[0;34m\u001b[0m\u001b[0m\n\u001b[1;32m    189\u001b[0m         \u001b[0;32mif\u001b[0m \u001b[0mcallable\u001b[0m\u001b[0;34m(\u001b[0m\u001b[0marg\u001b[0m\u001b[0;34m)\u001b[0m\u001b[0;34m:\u001b[0m\u001b[0;34m\u001b[0m\u001b[0;34m\u001b[0m\u001b[0m\n",
      "\u001b[0;32m/usr/local/lib/python3.6/dist-packages/IPython/core/magics/script.py\u001b[0m in \u001b[0;36mshebang\u001b[0;34m(self, line, cell)\u001b[0m\n\u001b[1;32m    243\u001b[0m             \u001b[0msys\u001b[0m\u001b[0;34m.\u001b[0m\u001b[0mstderr\u001b[0m\u001b[0;34m.\u001b[0m\u001b[0mflush\u001b[0m\u001b[0;34m(\u001b[0m\u001b[0;34m)\u001b[0m\u001b[0;34m\u001b[0m\u001b[0;34m\u001b[0m\u001b[0m\n\u001b[1;32m    244\u001b[0m         \u001b[0;32mif\u001b[0m \u001b[0margs\u001b[0m\u001b[0;34m.\u001b[0m\u001b[0mraise_error\u001b[0m \u001b[0;32mand\u001b[0m \u001b[0mp\u001b[0m\u001b[0;34m.\u001b[0m\u001b[0mreturncode\u001b[0m\u001b[0;34m!=\u001b[0m\u001b[0;36m0\u001b[0m\u001b[0;34m:\u001b[0m\u001b[0;34m\u001b[0m\u001b[0;34m\u001b[0m\u001b[0m\n\u001b[0;32m--> 245\u001b[0;31m             \u001b[0;32mraise\u001b[0m \u001b[0mCalledProcessError\u001b[0m\u001b[0;34m(\u001b[0m\u001b[0mp\u001b[0m\u001b[0;34m.\u001b[0m\u001b[0mreturncode\u001b[0m\u001b[0;34m,\u001b[0m \u001b[0mcell\u001b[0m\u001b[0;34m,\u001b[0m \u001b[0moutput\u001b[0m\u001b[0;34m=\u001b[0m\u001b[0mout\u001b[0m\u001b[0;34m,\u001b[0m \u001b[0mstderr\u001b[0m\u001b[0;34m=\u001b[0m\u001b[0merr\u001b[0m\u001b[0;34m)\u001b[0m\u001b[0;34m\u001b[0m\u001b[0;34m\u001b[0m\u001b[0m\n\u001b[0m\u001b[1;32m    246\u001b[0m \u001b[0;34m\u001b[0m\u001b[0m\n\u001b[1;32m    247\u001b[0m     \u001b[0;32mdef\u001b[0m \u001b[0m_run_script\u001b[0m\u001b[0;34m(\u001b[0m\u001b[0mself\u001b[0m\u001b[0;34m,\u001b[0m \u001b[0mp\u001b[0m\u001b[0;34m,\u001b[0m \u001b[0mcell\u001b[0m\u001b[0;34m,\u001b[0m \u001b[0mto_close\u001b[0m\u001b[0;34m)\u001b[0m\u001b[0;34m:\u001b[0m\u001b[0;34m\u001b[0m\u001b[0;34m\u001b[0m\u001b[0m\n",
      "\u001b[0;31mCalledProcessError\u001b[0m: Command 'b'sudo apt-get install -y graphviz\\n'' returned non-zero exit status 100."
     ]
    }
   ],
   "source": [
    "%%bash \n",
    "sudo apt-get install -y graphviz"
   ]
  },
  {
   "cell_type": "code",
   "execution_count": 6,
   "metadata": {},
   "outputs": [
    {
     "name": "stdout",
     "output_type": "stream",
     "text": [
      "\u001b[33mWARNING: You are using pip version 19.3.1; however, version 20.0.2 is available.\n",
      "You should consider upgrading via the 'pip install --upgrade pip' command.\u001b[0m\n",
      "Note: you may need to restart the kernel to use updated packages.\n"
     ]
    }
   ],
   "source": [
    "%pip install --user -q graphviz"
   ]
  },
  {
   "cell_type": "code",
   "execution_count": 5,
   "metadata": {},
   "outputs": [
    {
     "name": "stdout",
     "output_type": "stream",
     "text": [
      "Requirement already satisfied: numpy in /home/miuser/.local/lib/python3.6/site-packages (1.18.2)\n",
      "\u001b[33mWARNING: You are using pip version 19.3.1; however, version 20.0.2 is available.\n",
      "You should consider upgrading via the 'pip install --upgrade pip' command.\u001b[0m\n",
      "Note: you may need to restart the kernel to use updated packages.\n"
     ]
    }
   ],
   "source": [
    "%pip install --user numpy "
   ]
  },
  {
   "cell_type": "code",
   "execution_count": 7,
   "metadata": {},
   "outputs": [
    {
     "data": {
      "text/plain": [
       "{'status': 'ok', 'restart': True}"
      ]
     },
     "execution_count": 7,
     "metadata": {},
     "output_type": "execute_result"
    }
   ],
   "source": [
    "import IPython\n",
    "app=IPython.Application.instance()\n",
    "app.kernel.do_shutdown(True) #restarting kernell"
   ]
  },
  {
   "cell_type": "markdown",
   "metadata": {},
   "source": [
    "## Montecarlo 1D\n"
   ]
  },
  {
   "cell_type": "markdown",
   "metadata": {},
   "source": [
    "Empezamos con el algoritmo de monte carlo en 1 dimensión\n",
    "\n",
    "Integramos la función:\n",
    "$$f(x)=\\int_0^1 \\frac{4}{1+x^2}=\\pi$$ \n",
    "\n"
   ]
  },
  {
   "cell_type": "markdown",
   "metadata": {},
   "source": [
    "\n",
    "### Método secuencial:"
   ]
  },
  {
   "cell_type": "code",
   "execution_count": 1,
   "metadata": {},
   "outputs": [],
   "source": [
    "import numpy as np\n",
    "import math"
   ]
  },
  {
   "cell_type": "code",
   "execution_count": 2,
   "metadata": {},
   "outputs": [],
   "source": [
    "#definimos la funcion del error relativo\n",
    "err_rel=lambda ap,ob: math.fabs(ap-ob)/math.fabs(ob)"
   ]
  },
  {
   "cell_type": "code",
   "execution_count": 3,
   "metadata": {},
   "outputs": [],
   "source": [
    "#numero de puntos a utilizar\n",
    "density_p=10**8\n",
    "\n",
    "#funcion a integrar\n",
    "f=lambda x: 4/(1+x**2)\n",
    "\n",
    "#resultado conocido de la integral (valor objetivo)\n",
    "obj=math.pi\n",
    "\n",
    "#intervalo\n",
    "a=0\n",
    "b=1\n",
    "\n",
    "#dimensiones\n",
    "dims=1"
   ]
  },
  {
   "cell_type": "code",
   "execution_count": 4,
   "metadata": {},
   "outputs": [
    {
     "name": "stdout",
     "output_type": "stream",
     "text": [
      "---------------------\n",
      "El valor calculado de la integral es:  3.141591206171679\n",
      "El error relativo: 4.6073e-07\n",
      "---------------------\n",
      "CPU times: user 912 ms, sys: 273 ms, total: 1.19 s\n",
      "Wall time: 1.18 s\n"
     ]
    }
   ],
   "source": [
    "%%time\n",
    "#approximación mediante método montecarlo\n",
    "x_p=np.random.uniform(0,1,density_p) #obtiene tantos números aleatorios entre 0 y 1 como density_p.\n",
    "vol=b-a # esta es la longitud del intervalo de integración.\n",
    "approx=vol*np.mean(f(x_p))\n",
    "\n",
    "print(\"---------------------\")\n",
    "print(\"El valor calculado de la integral es: \",approx)\n",
    "print(\"El error relativo: {:0.4e}\".format(err_rel(approx,obj)))\n",
    "print(\"---------------------\")"
   ]
  },
  {
   "cell_type": "markdown",
   "metadata": {},
   "source": [
    "### Paralelización de MC en Dask"
   ]
  },
  {
   "cell_type": "markdown",
   "metadata": {},
   "source": [
    "Para paralelizar estos resultados lo que pienso que tenemos que hacer es dividir las tareas en n subintervalos. La porpuesta es la siguiente:  \n",
    "1. Dividir el dominio de la función en $p$ partes iguales. $p$ será el número de cpus disponibles en la máquina en que se corre la tarea.\n",
    "2. Dividir el total de puntos a utilizar equitativamente entre $p$.\n",
    "3. Resolver el método para cada intervalo.\n",
    "4. Sumar los resultados de cada intervalo."
   ]
  },
  {
   "cell_type": "markdown",
   "metadata": {},
   "source": [
    "Nota: Para el caso de más dimensiones solamente se paraleliza una dimensión pues al hacerlo con todas se estaría dividiendo el espacio en $p_{dim}$ subespacios."
   ]
  },
  {
   "cell_type": "code",
   "execution_count": 15,
   "metadata": {},
   "outputs": [],
   "source": [
    "import multiprocessing\n",
    "import time\n",
    "from dask.distributed import Client\n",
    "client = Client()"
   ]
  },
  {
   "cell_type": "code",
   "execution_count": 16,
   "metadata": {},
   "outputs": [
    {
     "data": {
      "text/html": [
       "<table style=\"border: 2px solid white;\">\n",
       "<tr>\n",
       "<td style=\"vertical-align: top; border: 0px solid white\">\n",
       "<h3 style=\"text-align: left;\">Client</h3>\n",
       "<ul style=\"text-align: left; list-style: none; margin: 0; padding: 0;\">\n",
       "  <li><b>Scheduler: </b>tcp://127.0.0.1:33357</li>\n",
       "  <li><b>Dashboard: </b><a href='http://127.0.0.1:8787/status' target='_blank'>http://127.0.0.1:8787/status</a>\n",
       "</ul>\n",
       "</td>\n",
       "<td style=\"vertical-align: top; border: 0px solid white\">\n",
       "<h3 style=\"text-align: left;\">Cluster</h3>\n",
       "<ul style=\"text-align: left; list-style:none; margin: 0; padding: 0;\">\n",
       "  <li><b>Workers: </b>4</li>\n",
       "  <li><b>Cores: </b>8</li>\n",
       "  <li><b>Memory: </b>8.21 GB</li>\n",
       "</ul>\n",
       "</td>\n",
       "</tr>\n",
       "</table>"
      ],
      "text/plain": [
       "<Client: 'tcp://127.0.0.1:33357' processes=4 threads=8, memory=8.21 GB>"
      ]
     },
     "execution_count": 16,
     "metadata": {},
     "output_type": "execute_result"
    }
   ],
   "source": [
    "client"
   ]
  },
  {
   "cell_type": "code",
   "execution_count": 17,
   "metadata": {},
   "outputs": [],
   "source": [
    "#paso 1. Dividir el dominio en partes iguales\n",
    "p=multiprocessing.cpu_count() #cpus disponibles\n",
    "n_subint=int(density_p/p) #numero de puntos o nodos en cada core o cpu"
   ]
  },
  {
   "cell_type": "code",
   "execution_count": 18,
   "metadata": {},
   "outputs": [],
   "source": [
    "def construye_subintervalos1D(ids,a,b,p,dims):\n",
    "    \"\"\"\n",
    "\n",
    "    Función que construye \"p\" subintervalos, delimitados entre a y b. El número de subintervalos \\\\\n",
    "    dependerá del número de cores empleados. Este ejercicio fue ejecutado en una computadora \\\\\n",
    "    con 16 cores, por lo tanto, se crean 16 subintervalos.\n",
    "    \n",
    "    Argumentos:\n",
    "    ----------\n",
    "    * ids: Identificador del core dónde se está corriendo el task. Este ejercicio fue ejecutado \\\\\n",
    "           en una computadora con 16 cores, por ello los posibles valores de \"ids\" son números enteros \\\\\n",
    "           entre 0 y 15.\n",
    "    * a, b (float): Intervalo de integración [a, b]\n",
    "    * p (int) : Número de cores o cpus disponibles\n",
    "    * dims: Dimensión de la integral.\n",
    "    \n",
    "    Salidas:\n",
    "    -------\n",
    "    * (begin, end): Subintervalos de integración.\n",
    "    \n",
    "    Ejemplo:\n",
    "    -------\n",
    "    construye_subintervalos(ids=0,a,b,p,dims)\n",
    "    return:\n",
    "    (0.0, 0.0625)\n",
    "\n",
    "    \"\"\"\n",
    "    tamano_int=(b-a)/p #tamaño de cada sub intervalo.\n",
    "    begin= a + ids*tamano_int #construyen los subintervalo\n",
    "    end=begin+tamano_int\n",
    "    return (begin,end)\n",
    "\n",
    "    \n",
    "def evalua_subintervalos1D(intervalo,f,n_subint,dims):\n",
    "    \"\"\"\n",
    "    Función que evalúa la integral en cada uno los p subintervalos \\\\\n",
    "    previamente construidos con la función \"construye_subintervalos\"\n",
    "    \n",
    "    Argumentos:\n",
    "    ----------\n",
    "    * intervalo: Intervalo de la integral sobre la cual se va aproximar \\\\\n",
    "                 la integral\n",
    "    * f: Función que se está aproximando\n",
    "    * n_subint: Número de puntos o nodos en cada core o cpu\n",
    "    * dims: Dimensiones de la integral\n",
    "    \n",
    "    Salidas:\n",
    "    --------\n",
    "    + vol*np.mean(f(x_p)): Approximación a la integral\n",
    "    \n",
    "    \"\"\"   \n",
    "    x_p=np.random.uniform(intervalo[0],intervalo[1],n_subint) #draw samples from a uniform distribution\n",
    "    vol=intervalo[1]-intervalo[0]\n",
    "    return vol*np.mean(f(x_p)) #calcula la integral para una cada regió: subintervalo."
   ]
  },
  {
   "cell_type": "code",
   "execution_count": 19,
   "metadata": {},
   "outputs": [
    {
     "name": "stdout",
     "output_type": "stream",
     "text": [
      "---------------------\n",
      "El valor calculado de la integral es:  3.1415892139239507\n",
      "El error relativo: 1.0949e-06\n",
      "---------------------\n",
      "CPU times: user 182 ms, sys: 9.23 ms, total: 192 ms\n",
      "Wall time: 891 ms\n"
     ]
    }
   ],
   "source": [
    "%%time\n",
    "\n",
    "#submitting p function calls\n",
    "futures_intervalos = client.map(construye_subintervalos1D,range(p),\n",
    "                                                **{'a':a,\n",
    "                                                   'b':b,\n",
    "                                                   'p':p,\n",
    "                                                   'dims':dims})\n",
    "\n",
    "futures_evaluando=client.map(evalua_subintervalos1D, futures_intervalos,\n",
    "                                             **{'f':f,\n",
    "                                                'n_subint':n_subint,\n",
    "                                                'dims':dims})\n",
    "\n",
    "results=client.gather(futures_evaluando) # los resultados viven en varios workers \n",
    "aprox=sum(results) #sumamos los resultados de todos los workers\n",
    "\n",
    "print(\"---------------------\")\n",
    "print(\"El valor calculado de la integral es: \",aprox)\n",
    "print(\"El error relativo: {:0.4e}\".format(err_rel(aprox,obj)))\n",
    "print(\"---------------------\")"
   ]
  },
  {
   "cell_type": "code",
   "execution_count": 20,
   "metadata": {},
   "outputs": [],
   "source": [
    "client.close()"
   ]
  },
  {
   "cell_type": "markdown",
   "metadata": {},
   "source": [
    "Para el método en secuencial obtenemos un error relativo de $3.6251x10^{-6}$ y un tiempo de ejecución de $2.38$ seg y para el método en paralelo obtenemos un error relativo de $6.0184x10^{-7}$ en $110$ ms."
   ]
  },
  {
   "cell_type": "markdown",
   "metadata": {},
   "source": [
    "# Monte carlo en n-dimensiones\n",
    "\n",
    "Se hace la generalización en que solamente se divide la primera dimensión y se paraleliza sobre esa dimensión usando las otras diemnsiones completas.  \n",
    "Los intervalos sobre los que se trabaja son intervalos divididos en $p$ partes iguales para la primera dimensión y el intervalo de intergración completo para cada una de las siguientes dimensiones."
   ]
  },
  {
   "cell_type": "code",
   "execution_count": 21,
   "metadata": {},
   "outputs": [],
   "source": [
    "#funciones para multiples dimensiones\n",
    "\n",
    "def construye_subintervalos(ids,a,b,p,dims):\n",
    "    \"\"\"\n",
    "    Función que construye \"p\" subintervalos, delimitados entre a y b para la primera dimensión.    \n",
    "    En las demás dimensiones integra sobre el intervalo completo.\n",
    "    \n",
    "    Argumentos:\n",
    "    ----------\n",
    "    * ids: Identificador del core dónde se está corriendo el task. \n",
    "    * a (float): Vector con el límite inferior de cada intervalo de integración [ax1,ax2,...,axn] para cada diemnsión. Tiene dims entradas.\n",
    "    * b (float): Vector con el límite superior de cada intervalo de integración [bx1,bx2,...,bxn] para cada diemnsión. Tiene dims entradas.\n",
    "    * p (int) : Número de cores o cpus disponibles\n",
    "    * dims: Dimensiónes de la integral.\n",
    "    \n",
    "    Salidas:\n",
    "    -------\n",
    "    * intervalos : lista de pares de intervalos de integración ordenados por dimensión\n",
    "    \n",
    "    \"\"\"\n",
    "    if(dims==1):\n",
    "        tamano_int=(b-a)/p\n",
    "        begin= a + ids*tamano_int\n",
    "        end=begin+tamano_int\n",
    "        return (begin,end)\n",
    "\n",
    "    else:\n",
    "        tamano_int=(b-a)/p\n",
    "\n",
    "        #aux solamente cambia la primera dimension\n",
    "        aux=np.identity(dims)\n",
    "        aux=aux[0,:]\n",
    "        aux=aux*ids*tamano_int\n",
    "        begin= a + aux\n",
    "        \n",
    "        aux=np.identity(dims)\n",
    "        aux=aux[0,:]\n",
    "        aux=aux*tamano_int\n",
    "        end=begin+aux\n",
    "        \n",
    "        intervalos=[]\n",
    "        for i in range(dims):\n",
    "            if(i==0):\n",
    "                intervalos=np.append(intervalos,[begin[i],end[i]])\n",
    "            else:\n",
    "                intervalos=np.append(intervalos,[a[i],b[i]])\n",
    "                \n",
    "        return intervalos\n"
   ]
  },
  {
   "cell_type": "code",
   "execution_count": 23,
   "metadata": {},
   "outputs": [],
   "source": [
    "def evalua_subintervalos(intervalo,f,n_subint,dims):\n",
    "    \"\"\"\n",
    "    Función que evalúa la integral en cada uno los p subintervalos \\\\\n",
    "    previamente construidos con la función \"construye_subintervalos\"\n",
    "    \n",
    "    Argumentos:\n",
    "    ----------\n",
    "    * intervalo: Intervalo de la integral sobre la cual se va aproximar \\\\\n",
    "                 la integral\n",
    "    * f: Función que se está aproximando\n",
    "    * n_subint: Número de puntos o nodos en cada core o cpu\n",
    "    * dims: Dimensiones de la integral\n",
    "    \n",
    "    Salidas:\n",
    "    --------\n",
    "    + vol*np.mean(f(x)): Approximación a la integral\n",
    "    \n",
    "    \"\"\"   \n",
    "\n",
    "    x=[]\n",
    "    vol=1\n",
    "    for i in range(dims):\n",
    "        x=np.append(x,np.random.uniform(intervalo[2*i],intervalo[2*i+1],n_subint))\n",
    "        vol=vol*(intervalo[2*i+1]-intervalo[2*i])\n",
    "    \n",
    "    x=np.reshape(x,(n_subint,dims), order='F')\n",
    "    return np.mean(f(x))*vol"
   ]
  },
  {
   "cell_type": "markdown",
   "metadata": {},
   "source": [
    "### Ejemplo 1\n",
    " $ \\int_0^2 \\int_{-1}^1 \\int_0^1 (2x+3y+z)dzdydx = 10$\n",
    " \n",
    "metodo en paralelo"
   ]
  },
  {
   "cell_type": "code",
   "execution_count": 24,
   "metadata": {},
   "outputs": [],
   "source": [
    "client=Client()\n",
    "\n",
    "#numero de procesadores\n",
    "p=multiprocessing.cpu_count()\n",
    "\n",
    "#numero de puntos a utlizar\n",
    "density_p=10**7\n",
    "n_subint=int(density_p/p)\n",
    "\n",
    "#funcion a integrar\n",
    "# cada variable se toma como la columna de una matriz\n",
    "f=lambda x: 2*x[:,0]+3*x[:,1]+x[:,2]\n",
    "\n",
    "#reultado conocido de la integral (valor objetivo)\n",
    "obj=10\n",
    "\n",
    "#intervalo\n",
    "# se debe de poner (x1_a,x2_a,...,xn_a) para los mínimos\n",
    "a=np.array([0,-1,0])\n",
    "# se debe de poner (x1_b,x2_b,...,xn_b) para los máxios\n",
    "b=np.array([2,1,1])\n",
    "\n",
    "#volumen\n",
    "vol=np.prod(b-a)\n",
    "\n",
    "#dimensiones\n",
    "dims=len(a)"
   ]
  },
  {
   "cell_type": "code",
   "execution_count": 27,
   "metadata": {},
   "outputs": [
    {
     "name": "stdout",
     "output_type": "stream",
     "text": [
      "---------------------\n",
      "El valor calculado de la integral es:  10.003357009626413\n",
      "El error relativo: 3.3570e-04\n",
      "---------------------\n",
      "CPU times: user 132 ms, sys: 1.69 ms, total: 133 ms\n",
      "Wall time: 364 ms\n"
     ]
    }
   ],
   "source": [
    "%%time\n",
    "#llamado para multiples dimensiones\n",
    "\n",
    "futures_intervalos = client.map(construye_subintervalos, range(p),\n",
    "                                            **{'a':a,\n",
    "                                               'b':b,\n",
    "                                               'p':p,\n",
    "                                               'dims':dims})\n",
    "\n",
    "futures_evaluando=client.map(evalua_subintervalos, futures_intervalos,\n",
    "                                            **{'f':f,\n",
    "                                               'n_subint':n_subint,\n",
    "                                               'dims':dims})\n",
    "\n",
    "results=client.gather(futures_evaluando)\n",
    "aprox=sum(results)\n",
    "\n",
    "print(\"---------------------\")\n",
    "print(\"El valor calculado de la integral es: \",aprox)\n",
    "print(\"El error relativo: {:0.4e}\".format(err_rel(aprox,obj)))\n",
    "print(\"---------------------\")"
   ]
  },
  {
   "cell_type": "code",
   "execution_count": 28,
   "metadata": {},
   "outputs": [
    {
     "name": "stdout",
     "output_type": "stream",
     "text": [
      "==================================================\n",
      "* Objetivo:  10\n",
      "* Aprox:  9.99794918491403\n",
      "* Error relativo: 2.0508e-04\n",
      "* Intervalo: \n",
      "(-21.15199619974249, 41.14789456957055)\n",
      "==================================================\n",
      "CPU times: user 3.02 s, sys: 111 ms, total: 3.13 s\n",
      "Wall time: 3.1 s\n"
     ]
    }
   ],
   "source": [
    "%%time\n",
    "np.random.seed(1992814)\n",
    "#density_p=10**7\n",
    "\n",
    "#f=lambda x,y,z: 2*x+3*y+z\n",
    "f=lambda x: 2*x[:,0]+ 3*x[:,1]+ x[:,2]\n",
    "density_p=10**7\n",
    "x0=0\n",
    "x1=2\n",
    "y0=-1\n",
    "y1=1\n",
    "z0=0\n",
    "z1=1\n",
    "\n",
    "x=[]\n",
    "x=np.append(x,np.random.uniform(x0,x1,density_p))\n",
    "x=np.append(x,np.random.uniform(y0,y1,density_p))\n",
    "x=np.append(x,np.random.uniform(z0,z1,density_p))\n",
    "x=np.reshape(x,(density_p,3),order='F')\n",
    "\n",
    "obj=10\n",
    "vol=(x1-x0)*(y1-y0)*(z1-z0)\n",
    "\n",
    "approx=vol*np.mean(f(x))\n",
    "err_rel=lambda ap,ob: math.fabs(ap-ob)/math.fabs(ob)\n",
    "error_est = math.sqrt(sum((f(x)-approx)**2)/density_p)\n",
    "\n",
    "print(\"=\"*50)\n",
    "print(\"* Objetivo: \",obj)\n",
    "print(\"* Aprox: \",approx)\n",
    "print(\"* Error relativo: {:0.4e}\".format(err_rel(approx,obj)))\n",
    "print(\"* Intervalo: \")\n",
    "print((approx-vol*error_est, approx+vol*error_est))\n",
    "print(\"=\"*50)\n"
   ]
  },
  {
   "cell_type": "markdown",
   "metadata": {},
   "source": [
    "Para el método en **secuencial** obtenemos un error relativo de $2.0508x10^{-4}$ y un tiempo de ejecución de $3.13$ seg y para el método en **paralelo** obtenemos un error relativo de $3.357x10^{-4}$ en $133$ ms."
   ]
  },
  {
   "cell_type": "code",
   "execution_count": null,
   "metadata": {},
   "outputs": [],
   "source": []
  }
 ],
 "metadata": {
  "kernelspec": {
   "display_name": "Python 3",
   "language": "python",
   "name": "python3"
  },
  "language_info": {
   "codemirror_mode": {
    "name": "ipython",
    "version": 3
   },
   "file_extension": ".py",
   "mimetype": "text/x-python",
   "name": "python",
   "nbconvert_exporter": "python",
   "pygments_lexer": "ipython3",
   "version": "3.6.9"
  }
 },
 "nbformat": 4,
 "nbformat_minor": 4
}
